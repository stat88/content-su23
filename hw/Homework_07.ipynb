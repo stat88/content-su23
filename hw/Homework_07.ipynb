{
 "cells": [
  {
   "cell_type": "markdown",
   "id": "aa2ba279-d3e7-44e6-bfa6-f4267e456af6",
   "metadata": {
    "#question": false,
    "#solution": false,
    "#staff": false,
    "#student": false,
    "tags": []
   },
   "source": [
    "<table align=\"left\" style=\"border-style: hidden\" class=\"table\"> <tr><td class=\"col-md-2\"><img style=\"float\" src=\"../logo.png\" alt=\"Data 88S Logo\" style=\"width: 120px;\"/></td><td><div align=\"left\"><h3 style=\"margin-top: 0;\">Probability for Data Science</h3><h4 style=\"margin-top: 20px;\">UC Berkeley, Summer 2023</h4><p>Shahzar & Salil</p>CC BY-NC 4.0</div></td></tr></table><!-- not in pdf -->\n",
    "\n",
    "This content is protected and may not be shared, uploaded, or distributed."
   ]
  },
  {
   "cell_type": "code",
   "execution_count": null,
   "id": "bbe91c42",
   "metadata": {
    "#question": false,
    "#solution": false,
    "#staff": false,
    "#student": false
   },
   "outputs": [],
   "source": [
    "from datascience import *\n",
    "import numpy as np\n",
    "from scipy import stats\n",
    "\n",
    "%matplotlib inline\n",
    "import matplotlib.pyplot as plt\n",
    "plt.style.use('fivethirtyeight')"
   ]
  },
  {
   "cell_type": "markdown",
   "id": "962f6f62-fa8e-4e4d-be02-ef503e919c44",
   "metadata": {
    "#question": false,
    "#solution": false,
    "#staff": false,
    "#student": false
   },
   "source": [
    "# Homework 7"
   ]
  },
  {
   "cell_type": "markdown",
   "id": "9ad46a43-0986-48b1-b7e0-a763b6e546e7",
   "metadata": {
    "#question": false,
    "#solution": false,
    "#staff": false,
    "#student": true,
    "tags": []
   },
   "source": [
    "### Instructions\n",
    "\n",
    "In all Data 88S homework, you will be providing written answers, not code. We encourage you to hand-write your answers. It is your responsibility to ensure that the homework is submitted completely and properly to Gradescope. **Make sure to assign each page of your pdf to the correct question. Refer to the bottom of the notebook for submission instructions.**\n",
    "\n",
    "Every answer should contain a calculation or reasoning. For example, a calculation such as $(1/3)(0.8) + (2/3)(0.7)$ is fine without further explanation or simplification. If we want you to simplify, we'll ask you to. But just ${5 \\choose 2}$ by itself is not fine; write \"we want any 2 out of the 5 frogs and they can appear in any order\" or whatever reasoning you used. Reasoning can be brief and abbreviated, e.g. \"product rule\" or \"not mutually exclusive.\"\n",
    "\n",
    "In some of the problems below, you will be provided a code cell that you can use for calculation. You do not need to use the code cell if you don't want to, but you should provide the requested decimal value in your submission. All the libraries you might need have been imported for you. Run the import cell at the top before you start the homework. "
   ]
  },
  {
   "cell_type": "markdown",
   "id": "a84293e8-405f-4562-86c8-15718f311477",
   "metadata": {
    "#question": true,
    "#solution": false,
    "#staff": false,
    "#student": false,
    "tags": []
   },
   "source": [
    "## 1. Heights of Mothers and Daughters ##\n",
    "\n",
    "The heights of a population of mother-daughter pairs are correlated. The scatter plot of the heights of the mothers and their daughters is football-shaped and the correlation between the two heights is $0.75$. Now and forever: if the scatter plot of two variables is football- or oval-shaped, then both of the variables are normally distributed.\n",
    "\n",
    "A mother-daughter pair is picked from the population at random. \n",
    "\n",
    "**a)** Given that the mother is on the 80th percentile of Math scores, use regression to estimate the percentile rank of the daughter's height.\n",
    "\n",
    "**b)** Given that the mother is on the 30th percentile of Math scores, use regression to estimate the percentile rank of the daughter's height."
   ]
  },
  {
   "cell_type": "code",
   "execution_count": null,
   "id": "1130b9d2-3324-49f7-a444-f2cecb74b480",
   "metadata": {
    "#question": false,
    "#solution": false,
    "#staff": false,
    "#student": true
   },
   "outputs": [],
   "source": [
    "# Calculations for a\n",
    "\n",
    "..."
   ]
  },
  {
   "cell_type": "code",
   "execution_count": null,
   "id": "2c8ffbf8-b1a6-41fe-a671-758db8d7d047",
   "metadata": {
    "#question": false,
    "#solution": false,
    "#staff": false,
    "#student": true
   },
   "outputs": [],
   "source": [
    "# Calculations for b\n",
    "\n",
    "..."
   ]
  },
  {
   "cell_type": "markdown",
   "id": "006dbe39-3e94-43c5-9dd5-30630555641c",
   "metadata": {
    "#question": false,
    "#solution": false,
    "#staff": false,
    "#student": false
   },
   "source": [
    "\\newpage"
   ]
  },
  {
   "cell_type": "markdown",
   "id": "4001fe15-78e2-4227-8d78-3f9f3d9077f8",
   "metadata": {
    "#question": true,
    "#solution": false,
    "#staff": false,
    "#student": false
   },
   "source": [
    "## 2. Predicting Scores ##\n",
    "\n",
    "A large class has a midterm and a final exam. The midterm scores have an average of 60 and a standard deviation of 20. The final exam scores have an average of 70 and a standard deviation of 10.\n",
    "\n",
    "The scatter plot of the midterm and final scores is not football-shaped. The variables are positively correlated and the scatter plot is slightly curved. \n",
    "\n",
    "For a randomly picked student, let $X$ be the midterm score and $Y$ be the final score.\n",
    "\n",
    "**a)** Given that $X = 90$, find the best possible bounds on the regression estimate for $Y$.\n",
    "\n",
    "**b)** Given that $X = 50$, find the best possible bounds on the regression estimate for $Y$."
   ]
  },
  {
   "cell_type": "markdown",
   "id": "56484373-5b15-4268-ad0b-4f3fe1c76caa",
   "metadata": {
    "#question": false,
    "#solution": false,
    "#staff": false,
    "#student": false
   },
   "source": [
    "\\newpage"
   ]
  },
  {
   "cell_type": "markdown",
   "id": "06a580a8-1869-48ba-8b00-edf9ece7e365",
   "metadata": {
    "#question": true,
    "#solution": false,
    "#staff": false,
    "#student": false,
    "tags": []
   },
   "source": [
    "## 3. More Ghosts 👻 ##\n",
    "\n",
    "Find the following expectations and standard deviations.\n",
    "\n",
    "**a)** Let $X$ have mean $-3$ and standard deviation $1$ and let $Y$ have mean $2$ and standard deviation $4$, independent of $X$. Let $W = \\frac{4}{5}X - 2Y - \\frac{1}{5}$. Find $E(W)$ and $SD(W)$.\n",
    "\n",
    "**b)** Let $X_1, \\ldots, X_{200}$ be iid with mean 4 and standard deviation 2 and let $S = X_1 + \\ldots + X_{200}$. Find $E(S)$ and $SD(S)$.\n",
    "\n",
    "**c)** Let $X_1, \\ldots, X_{50}$ be iid with mean 10 and standard deviation 5 and let $\\bar{X} = \\frac{1}{50} \\sum_{i=1}^{50} X_i$. Find $E(\\bar{X})$ and $SD(\\bar{X})$. \n",
    "\n",
    "**d)** Let $X_1, \\ldots, X_{300}$ be iid with mean 2 and standard deviation 5 and let $Y_1, \\ldots, Y_{200}$ be iid with mean 4 and standard deviation 6, independent of $X_1, \\ldots, X_{300}$. For $\\bar{X}$ the average of $X_1, \\ldots, X_{300}$ and $\\bar{Y}$ the average of $Y_1, \\ldots, Y_{200}$, let $D = \\bar{X} - \\bar{Y}$. Find $E(D)$ and $SD(D)$. \n",
    "\n",
    "**e)** Let $X_1, \\ldots, X_{400}$ be iid Bernoulli $\\left(\\frac{1}{3}\\right)$ and $Y_1, \\ldots, Y_{500}$ be iid Bernoulli $\\left(\\frac{4}{5}\\right)$, independent of $X_1, \\ldots, X_{400}$. For $\\bar{X}$ the average of $X_1, \\ldots, X_{400}$ and $\\bar{Y}$ the average of $Y_1, \\ldots, Y_{500}$, let $D = \\bar{X} - \\bar{Y}$. Find $E(D)$ and $SD(D)$. \n",
    "\n",
    "**f)** Let $X$ have mean $\\mu$ and standard deviation $\\sigma$. Find $E(X^*)$ and $SD(X^*)$. You must show each step of the calculation for full credit. "
   ]
  },
  {
   "cell_type": "markdown",
   "id": "f8c811c3-3467-44b4-8eba-eff2eb802d4c",
   "metadata": {
    "#question": false,
    "#solution": false,
    "#staff": false,
    "#student": false
   },
   "source": [
    "\\newpage"
   ]
  },
  {
   "cell_type": "markdown",
   "id": "0ff8372f-9414-46ab-b629-536cc63eb27d",
   "metadata": {
    "#question": true,
    "#solution": false,
    "#staff": false,
    "#student": false,
    "tags": []
   },
   "source": [
    "## 4. Correlations in Regression ##\n",
    "\n",
    "Let $(X, Y)$ be a random point and let $r = r(X, Y) > 0$ be the correlation between $X$ and $Y$. Let $\\hat{Y}$ be the regression estimate of $Y$ based on $X$ and let $D = Y - \\hat{Y}$ be the residual.\n",
    "\n",
    "**a)** Find $r(X, 3X - 2)$.\n",
    "\n",
    "**b)** Find $r(Y, 3X - 2)$. \n",
    "\n",
    "**c)** Find $r(X, \\hat{Y})$.\n",
    "\n",
    "**d)** Find $r(Y, \\hat{Y})$.\n",
    "\n",
    "**e)** Find $r(X, D)$. \n",
    "\n",
    "**f)** Find $r(\\hat{Y}, D)$.\n",
    "\n",
    "**g)** Show that $D^* = \\frac{1}{\\sqrt{1 - r^2}}\\left(Y^* - r\\hat{Y}^*\\right)$. \n",
    "\n",
    "**h)** Use **g** to find $r(Y, D)$. "
   ]
  },
  {
   "cell_type": "markdown",
   "id": "ae73a2af-5791-4e5a-80d4-93ab55b45234",
   "metadata": {
    "#question": false,
    "#solution": false,
    "#staff": false,
    "#student": false
   },
   "source": [
    "\\newpage"
   ]
  },
  {
   "cell_type": "markdown",
   "id": "c6289d72-fef9-4770-a94c-27316e082ba2",
   "metadata": {
    "#question": true,
    "#solution": false,
    "#staff": false,
    "#student": false
   },
   "source": [
    "## 5. Cockatoo Eggs\n",
    "\n",
    "Let $X$ be the length and $Y$ be the weight of a randomly picked cockatoo egg. We are given that\n",
    "- $\\mu_X = 5$ centimeters,\n",
    "- $\\sigma_X = 0.25$ centimeters,\n",
    "- $\\mu_Y = 33$ grams,\n",
    "- $\\sigma_Y = 3.5$ grams, and\n",
    "- $r(X, Y) = 0.75$.\n",
    "\n",
    "**a)** Find the regression estimate of $Y$ based on $X$.\n",
    "\n",
    "**b)** Find with the smallest value of $t$ which makes the following statement true.\n",
    "\n",
    "With chance at least 90%, the regression estimate of $Y$ is correct to within $t$ grams.\n",
    "\n",
    "**c)** Find, approximate, or bound the chance that regression estimate of $Y$ is correct to within 3 grams."
   ]
  },
  {
   "cell_type": "markdown",
   "id": "f2a089d6-e8cb-43f4-9160-f212d7246a70",
   "metadata": {
    "#question": false,
    "#solution": false,
    "#staff": false,
    "#student": false
   },
   "source": [
    "\\newpage"
   ]
  },
  {
   "cell_type": "markdown",
   "id": "529ff057-0620-45c9-9e0b-055f0384bfa4",
   "metadata": {
    "#question": true,
    "#solution": false,
    "#staff": false,
    "#student": false
   },
   "source": [
    "## 6. Pre- and Post-Treatment ##\n",
    "In an experiment on treatments of Hodgkin's disease, a randomly selected group of patients were assessed before and after treatment. Since the treatment included radiation to each patient's chest area, there was some concern that the treatment might damage the patients' lungs as a side effect, at least in the short term. \n",
    "\n",
    "Doctors scored each patient on how much air the patient could blow out of their lungs, both before and shortly after the completion of the treatment. The larger the score, the more air the patient can blow out, and the more healthy the patients' lungs. \n",
    "\n",
    "The scores are in a table called `patients`; the column `Baseline` contains the pre-treatment score. \n",
    "\n",
    "**a)** Not surprisingly, patients with higher baseline scores tend to have higher post-treatment scores."
   ]
  },
  {
   "cell_type": "code",
   "execution_count": null,
   "id": "135b22f3-c053-45f6-8a0e-9cde6eb25e0a",
   "metadata": {
    "#question": true,
    "#solution": false,
    "#staff": false,
    "#student": false
   },
   "outputs": [],
   "source": [
    "scores = Table.read_table('patients.csv')\n",
    "scores.labels, scores.num_rows"
   ]
  },
  {
   "cell_type": "code",
   "execution_count": null,
   "id": "0109a7c5-d60e-4335-99f9-3ac9fa355407",
   "metadata": {
    "#question": true,
    "#solution": false,
    "#staff": false,
    "#student": false
   },
   "outputs": [],
   "source": [
    "scores.scatter(0, 1)"
   ]
  },
  {
   "cell_type": "markdown",
   "id": "c99c046b-5f4e-480e-8b87-e2f44a6f3159",
   "metadata": {
    "#question": true,
    "#solution": false,
    "#staff": false,
    "#student": false
   },
   "source": [
    "Assume the linear regression model. Use `stats.linregress` to perform the regression, and use the output to construct a 95% confidence interval for the true slope between the baseline score and the post-treatment score. "
   ]
  },
  {
   "cell_type": "code",
   "execution_count": null,
   "id": "4d287f09-313d-47cb-950b-a4e7133cfb9d",
   "metadata": {
    "#question": false,
    "#solution": false,
    "#staff": false,
    "#student": true
   },
   "outputs": [],
   "source": [
    "# Calculations for a\n",
    "\n",
    "..."
   ]
  },
  {
   "cell_type": "markdown",
   "id": "2afc50f5-f38b-46aa-b6c0-1d2c9a86d5e8",
   "metadata": {
    "#question": true,
    "#solution": false,
    "#staff": false,
    "#student": false
   },
   "source": [
    "**b)** Do you think the true slope in Part **a** is equal to 0? Why or why not?\n",
    "\n",
    "**c)** Since the doctors were interested in the change in the patients' lung capacities, they measured the difference between the post-treatment and baseline scores."
   ]
  },
  {
   "cell_type": "code",
   "execution_count": null,
   "id": "967a77e9-1024-4cf4-a925-ffed2b8d1e05",
   "metadata": {
    "#question": true,
    "#solution": false,
    "#staff": false,
    "#student": false
   },
   "outputs": [],
   "source": [
    "base = scores.column('Baseline')\n",
    "post = scores.column('Post Treatment')\n",
    "difference = post - base\n",
    "scores = scores.with_column('Difference', difference)\n",
    "scores.where('Difference', are.below(0)).num_rows"
   ]
  },
  {
   "cell_type": "markdown",
   "id": "424500ab-0540-4120-940e-b332072da72a",
   "metadata": {
    "#question": true,
    "#solution": false,
    "#staff": false,
    "#student": false
   },
   "source": [
    "The doctors were already concerned about lung damage before the treatment was administered. So use the information above to test whether the treatment hurt the patients' lungs. Set up reasonable null and alternative hypotheses, perform an appropriate test, and state your conclusion."
   ]
  },
  {
   "cell_type": "code",
   "execution_count": null,
   "id": "d95f763b-b7b1-4342-ad57-1a76d3f6b7e3",
   "metadata": {
    "#question": false,
    "#solution": false,
    "#staff": false,
    "#student": true
   },
   "outputs": [],
   "source": [
    "# Calculations for c\n",
    "\n",
    "..."
   ]
  },
  {
   "cell_type": "markdown",
   "id": "b1841059-f020-48ca-966a-5ca595c7fc88",
   "metadata": {
    "#question": true,
    "#solution": false,
    "#staff": false,
    "#student": false
   },
   "source": [
    "**d)** The data appear to indicate that patients with large baseline scores tend to have bigger drops in scores after treatment."
   ]
  },
  {
   "cell_type": "code",
   "execution_count": null,
   "id": "20823a98-123c-4abf-b777-62f30fe55ea4",
   "metadata": {
    "#question": true,
    "#solution": false,
    "#staff": false,
    "#student": false
   },
   "outputs": [],
   "source": [
    "scores.scatter(0, 2)"
   ]
  },
  {
   "cell_type": "markdown",
   "id": "3ce31ea4-3e63-40e8-aeb6-d2f9a7c470c9",
   "metadata": {
    "#question": true,
    "#solution": false,
    "#staff": false,
    "#student": false
   },
   "source": [
    "Assume the linear regression model. With the help of `stats.linregress`, perform a test of whether or not the true slope between the baseline score and difference is 0, as follows: \n",
    "\n",
    "State appropriate null and alternative hypotheses; select a test statistic and calculate its observed value; calculate the $p$-value and confirm that it is the same as the one reported by `stats.linregress`; state your conclusion using the 5% level for the test."
   ]
  },
  {
   "cell_type": "code",
   "execution_count": null,
   "id": "29c5cb3f-b327-4b1d-a8f5-141ef82b8dae",
   "metadata": {
    "#question": false,
    "#solution": false,
    "#staff": false,
    "#student": true
   },
   "outputs": [],
   "source": [
    "# Calculations for d\n",
    "\n",
    "..."
   ]
  },
  {
   "cell_type": "markdown",
   "id": "86939398-b33b-49d3-b46c-0cc211f3ac58",
   "metadata": {
    "#question": false,
    "#solution": false,
    "#staff": false,
    "#student": true,
    "tags": []
   },
   "source": [
    "## Submission Instructions ##\n",
    "\n",
    "Please follow the directions below to properly submit both portions.\n",
    "\n",
    "### Written Work ###\n",
    "*  Scan all the pages into a PDF. You can use any scanner or a phone using applications such as CamScanner. Please **DO NOT** simply take pictures using your phone. \n",
    "* **Please start a new page for each question.** If you have already written multiple questions on the same page, you can crop the image in CamScanner or fold your page over (the old-fashioned way). This helps expedite grading.\n",
    "* It is your responsibility to check that all the work on all the scanned pages is legible.\n",
    "    \n",
    "### Submitting ###\n",
    "* Submit the assignment to Homework 7 on Gradescope. \n",
    "* **Make sure to assign each page of your pdf to the correct question.**\n",
    "* **It is your responsibility to verify that all of your work shows up in your final PDF submission.**\n",
    "\n",
    "If you have questions about scanning or uploading your work, please post a follow-up to the Ed thread on [Gradescope Assignment Submission](https://edstem.org/us/courses/40833/discussion/3214385).\n",
    "\n",
    "## **We will not grade assignments which do not have pages selected for each question.** ##"
   ]
  }
 ],
 "metadata": {
  "checksums": [
   "6a022d097f4bf8a378f8b543e3f2aacc",
   "3f69ed9fe4f96251e3aac9d9f67c543d",
   "1d162e19707e7cb5b7a1fbc76c833777",
   "8035ddd1b8292a88be79e80b78b6378d",
   "742ecbcecfe7870550f726c47391fe01",
   "2e15565767dbd781b43a62201e3eaf4e",
   "037df85a513e72c0ddcf023ac942a1d4",
   "562505d567faf02dfc9388e81e89d07b",
   "6818cf9bc75b3df0ed18b77b28883b74",
   "562505d567faf02dfc9388e81e89d07b",
   "4a7d36229476a2405d1389a710852070",
   "562505d567faf02dfc9388e81e89d07b",
   "8b79b797caf55ad995ea2edb5f33a36d",
   "562505d567faf02dfc9388e81e89d07b",
   "cc1644db6c735a4968d903a8e4efcbff",
   "562505d567faf02dfc9388e81e89d07b",
   "159e18d50be9962bc2fc133a96c92bd7",
   "13f1451ca8c421bea35ceb83e772282c",
   "6abbfe4750117ef331a3fc4f697f300c",
   "841b92ea0808a8ca091b83d68dc23494",
   "2e15565767dbd781b43a62201e3eaf4e",
   "f06ab5e45204ce507a2c3bd015583d2d",
   "92e5caa9e370d69495ad65e50d4fede9",
   "58d9d503c868c14b21e4c8c0daefb6d4",
   "5761d2a1aae03086a1dbae4633cec1bf",
   "3179b17a67dd46345746701e024a4d94",
   "24c6a5236735d7b761d5e263f8995401",
   "693a3e9120e2b5c27e48000061d0a614",
   "a24f3ebcbd8ba8c5d70ce0093dbed4ea",
   "2127fd2940ce05e18aacebf9f8dbe969"
  ],
  "kernelspec": {
   "display_name": "Python 3",
   "language": "python",
   "name": "python3"
  },
  "language_info": {
   "codemirror_mode": {
    "name": "ipython",
    "version": 3
   },
   "file_extension": ".py",
   "mimetype": "text/x-python",
   "name": "python",
   "nbconvert_exporter": "python",
   "pygments_lexer": "ipython3",
   "version": "3.7.11"
  },
  "number_of_pagebreaks": 0
 },
 "nbformat": 4,
 "nbformat_minor": 5
}
