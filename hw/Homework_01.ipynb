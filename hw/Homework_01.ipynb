{
 "cells": [
  {
   "cell_type": "markdown",
   "metadata": {
    "#solution": false,
    "#staff": false,
    "#student": false
   },
   "source": [
    "<table align=\"left\" style=\"border-style: hidden\" class=\"table\"> <tr><td class=\"col-md-2\"><img style=\"float\" src=\"../logo.png\" alt=\"Data 88S Logo\" style=\"width: 120px;\"/></td><td><div align=\"left\"><h3 style=\"margin-top: 0;\">Probability for Data Science</h3><h4 style=\"margin-top: 20px;\">UC Berkeley, Summer 2023</h4><p>Shahzar & Salil</p>CC BY-NC 4.0</div></td></tr></table><!-- not in pdf -->\n",
    "\n",
    "This content is protected and may not be shared, uploaded, or distributed."
   ]
  },
  {
   "cell_type": "markdown",
   "metadata": {
    "#solution": false,
    "#staff": false,
    "#student": false
   },
   "source": [
    "# Homework 1 #"
   ]
  },
  {
   "cell_type": "markdown",
   "metadata": {
    "#solution": false,
    "#staff": false,
    "#student": false
   },
   "source": [
    "### Instructions\n",
    "\n",
    "In all Data 88S homework, you will be providing written answers, not code. We encourage you to hand-write your answers. It is your responsibility to ensure that the homework is submitted completely and properly to Gradescope. **Make sure to assign each page of your pdf to the correct question. Refer to the bottom of the notebook for submission instructions.**"
   ]
  },
  {
   "cell_type": "markdown",
   "metadata": {
    "#solution": false,
    "#staff": false,
    "#student": false
   },
   "source": [
    "### How to Do Your Homework\n",
    "  The point of homework is for you to try your hand at using what you've learned in class. The steps to follow:\n",
    "\n",
    "- Go to lecture and sections, and also go over the relevant text sections and discussion sections before starting on the homework. You should not expect to simply remember all the ideas and details from what you heard in class.\n",
    "- Work on some of the chapter exercises before starting the homework.\n",
    "- Attempt the homework problems by yourself with the text and section work at hand. The step above will help this step go faster and be more fruitful.\n",
    "- At this point, seek help if you need it. Don't ask how to do the problem—ask how to get started, or explain where you are stuck and ask for a nudge to get you past that point. Always say what you have already tried. That helps us help you more effectively.\n",
    "- For a good measure of your understanding, keep track of the fraction of the homework you can do by yourself or with minimal help. It's a better measure than your homework score, and only you can measure it.\n",
    "- **Draw lots of diagrams. They are really helpful, as in this homework where a Venn diagram or two might save you a headache.**"
   ]
  },
  {
   "cell_type": "markdown",
   "metadata": {
    "#solution": false,
    "#staff": false,
    "#student": false
   },
   "source": [
    "### Rules for Homework ###\n",
    "- Show your work. Give reasoning. The question isn't always going to ask for it, because we assume that you will provide justification for your answers.\n",
    "- Every answer should contain a calculation, reasoning, or diagrams that are clearly labeled to show what's going on. For example, a calculation such as $(1/3)0.8 + (2/3)0.7$ or ```sum([(1/3)*0.8, (2/3)*0.7])``` is fine without further explanation or simplification. If we want you to simplify, we'll ask you to. But just $\\binom{5}{2}$ by itself is not fine; write \"we want any 2 out of the 5 frogs and they can appear in any order\" or whatever reasoning you used. Reasoning can be brief and abbreviated, e.g. \"product rule\" or \"not mutually exclusive.\"\n",
    "- You may consult others (see \"How to Do Your Homework\" above) but you must write up your own answers using your own words, notation, and sequence of steps.\n",
    "- We'll be using Gradescope. You must submit the homework according to the instructions at the end of homework set."
   ]
  },
  {
   "cell_type": "markdown",
   "metadata": {
    "#solution": false,
    "#staff": false,
    "#student": false,
    "tags": []
   },
   "source": [
    "## 1. Leibniz's Error ##\n",
    "\n",
    "The German philosopher and mathematician [Gottfried von Leibniz](https://en.wikipedia.org/wiki/Gottfried_Wilhelm_Leibniz) came up with the ideas of calculus, independently of Isaac Newton. Leibniz was also interested in probability, and while his name is associated with many fundamentally important areas of mathematics, it is also associated with an unfortunate statement about chances.\n",
    "\n",
    "Consider rolling two dice and adding up the total number of spots you get. Leibniz called these \"points\", so that for example if both dice show one spot then you get two points. \n",
    "\n",
    "**a)** Imagine one of the dice to be blue and the other one gold, and let an outcome consist of the pair of faces that appear. How many possible outcomes does the experiment have? You can reason by a calculation, or by listing all the outcomes, or by displaying them in a suitable table, or any unambiguous method of your choice.\n",
    "\n",
    "**b)** In 1768, Leibniz wrote in his *Opera Omnia* that, \"... for example, with two dice, it is equally likely to throw twelve points, than to throw 11; because one or the other can be done in only one manner.\" Assume as Leibniz did that both dice are fair and that therefore all the outcomes in Part **a** are equally likely. Find $P(\\text{11 points})$ as well as $P(\\text{12 points})$ and explain why the answer is not what Leibniz wrote. \n",
    "\n",
    "**c)** It appears that Leibniz didn't take the time to actually roll two dice over and over again and keep track of the number of points. You don't have to either. Just extend the calculation that you did in Part **b** to find the distribution of probabilities for the number of points that result from the experiment. Display your answer in a table that has two rows. The top row should consist of all the possible numbers of points, in increasing order. The bottom row should contain the corresponding probabilities. \n",
    "\n",
    "As an example of such a \"distribution table\", here is one that displays the distribution of probabilities of points if the experiment consisted of rolling just one die.\n",
    "\n",
    "|Number of points $n$|$1$|$2$|$3$|$4$|$5$|$6$|\n",
    "|---------:|:---:|:---:|:---:|:---:|:---:|:---:|\n",
    "|P($n$ points)|$\\frac{1}{6}$|$\\frac{1}{6}$|$\\frac{1}{6}$|$\\frac{1}{6}$|$\\frac{1}{6}$|$\\frac{1}{6}$|\n",
    "\n",
    "Once you have completed your table, you will see why the distribution is called *triangular*."
   ]
  },
  {
   "cell_type": "markdown",
   "metadata": {
    "#solution": false,
    "#staff": false,
    "#student": false
   },
   "source": [
    "\\newpage"
   ]
  },
  {
   "cell_type": "markdown",
   "metadata": {
    "#solution": false,
    "#staff": false,
    "#student": false,
    "tags": []
   },
   "source": [
    "## 2. Rainy Weekend? ##\n",
    "\n",
    "Suppose you're heading off for a long weekend (Friday, Saturday, and Sunday) somewhere and the weather report for your destination says:\n",
    "\n",
    "- Chance of rain on Friday: 10%\n",
    "- Chance of rain on Saturday: 25%\n",
    "- Chance of rain on Sunday: 30%\n",
    "\n",
    "In each part below, find the chance exactly if it can be found using no further assumptions. If it can't be found, then (again using no further assumptions) find the best lower bound and upper bound that you can.\n",
    "\n",
    "**a)** the chance that it rains in your destination sometime during the long weekend\n",
    "\n",
    "**b)** the chance that it rains in your destination on all three days of the long weekend"
   ]
  },
  {
   "cell_type": "markdown",
   "metadata": {
    "#solution": false,
    "#staff": false,
    "#student": false
   },
   "source": [
    "\\newpage"
   ]
  },
  {
   "cell_type": "markdown",
   "metadata": {
    "#solution": false,
    "#staff": false,
    "#student": false
   },
   "source": [
    "## 3. Puppies! ##\n",
    "\n",
    "Jane’s dog, Posie, has three puppies, and let us assume that each of the babies is either a male ($\\text{M}$) or a female ($\\text{F}$), and each puppy is equally likely to be either male or female. This gives us eight possible equally likely outcomes\n",
    "for Posie’s puppies: $\\text{FFF}$, $\\text{FFM}$, $\\text{FMF}$, $\\text{MFF}$, $\\text{MMF}$, $\\text{MFM}$, $\\text{FMM}$, $\\text{MMM}$.\n",
    "\n",
    "For each of the following events, clearly write out the outcomes in each of events ***and*** find the probabilities for those events.\n",
    "\n",
    "**a)** The event that all three puppies are the same sex.\n",
    "\n",
    "**b)** The event that there are exactly two male pups.\n",
    "\n",
    "**c)** The event that there is at most one male.\n",
    "\n",
    "**d)** The event that there is at least one male."
   ]
  },
  {
   "cell_type": "markdown",
   "metadata": {
    "#solution": false,
    "#staff": false,
    "#student": false
   },
   "source": [
    "\\newpage"
   ]
  },
  {
   "cell_type": "markdown",
   "metadata": {
    "#solution": false,
    "#staff": false,
    "#student": false
   },
   "source": [
    "## 4. World Economies ##\n",
    "\n",
    "Economists are making predictions about the financial health of three countries. For $i = 1, 2, 3$, let $G_i$ be the event that Country $i$ has no recession next year. Let $G$ be the event that none of the countries has a recession next year.\n",
    "\n",
    "**a)** Express the event $G$ in terms of the events $G_1$, $G_2$, and $G_3$ and the set operations $\\cup$, $\\cap$, and $^c$. Then, state in plain words what the event $G^c$ is.\n",
    "\n",
    "**b)** Fill in the blank with one of the symbols $\\le$, $=$, and $\\ge$ so that the resulting statement is always true, and explain your answer: $P(G) \\underline{~~~~~~~~~~~~~~~~~} P(G_1)$.\n",
    "\n",
    "**c)** Suppose the economists' predictions are all rosy: $P(G_1) = 0.9$, $P(G_2) = 0.95$, and $P(G_3) = 0.99$.\n",
    "\n",
    "Fill in the blank with the best lower bound you can find, and justify your answer: \n",
    "\n",
    "Without making any further assumptions, we can say that $P(G) \\ge \\underline{~~~~~~~~~~~~~~~}$.\n",
    "\n",
    "[*Hint:* use complements]\n",
    "\n",
    "The method you have discovered in the above parts is commonly used to find bounds on chances of intersections, for example the chance that several estimates based on a random sample all have acceptable accuracy.\n",
    "\n",
    "**d)** Along with the assumptions in part **c)**, further assume that the economy of Country 2 depends strongly on the economy of Country 1. In particular, if Country 1 has no recession next year, then economists predict that Country 2 has an increased chance of $0.99$ of having no recession next year. \n",
    "\n",
    "Find the chance that next year, Country 1 has no recession, but Country 2 does. If it can't be found, then find the best lower bound and upper bound that you can. "
   ]
  },
  {
   "cell_type": "markdown",
   "metadata": {
    "#solution": false,
    "#staff": false,
    "#student": false
   },
   "source": [
    "\\newpage"
   ]
  },
  {
   "cell_type": "markdown",
   "metadata": {
    "#solution": false,
    "#staff": false,
    "#student": false
   },
   "source": [
    "## 5. Chocolate Box ##\n",
    "\n",
    "A box contains 12 chocolates, 3 of which are white chocolate, 4 milk chocolate, and 5 dark chocolate. \n",
    "\n",
    "I am sharing the box with three of my friends. The four of us take turns, each one drawing a chocolate at random from those available in the box. Yes, we're drawing without replacement. We intend to eat the chocolates, not put them back.\n",
    "\n",
    "Politely, I let my friends draw before me.\n",
    "\n",
    "For each of the subparts, provide your answer as an unsimplified fractional expression.\n",
    "\n",
    "**a)** What is the chance that I draw a dark chocolate?\n",
    "\n",
    "**b)** Given that none of my friends draws a dark chocolate, what is the chance that I draw a dark chocolate?\n",
    "\n",
    "**c)** What is the chance that all four of us draw milk chocolates?\n",
    "\n",
    "**d)** What is the chance that the friend who gets to select first draws a dark chocolate and I draw a dark chocolate too?"
   ]
  },
  {
   "cell_type": "markdown",
   "metadata": {
    "#solution": false,
    "#staff": false,
    "#student": false
   },
   "source": [
    "\\newpage"
   ]
  },
  {
   "cell_type": "markdown",
   "metadata": {
    "#solution": false,
    "#staff": false,
    "#student": false
   },
   "source": [
    "## 6. Detecting Breast Cancer ##\n",
    "\n",
    "A 2011 [article](https://ebm.bmj.com/content/16/6/163) in the British Medical Journal attempts to elucdiate Bayes' Rule for the medical profession. It's well worth reading and has some illuminating graphics. In this exercise you will confirm a result stated in the article. Useful terminology:\n",
    "\n",
    "- The *sensitivity* of a test for a medical condition is the proportion of correctly diagnosed patients among those who have the condition.\n",
    "- The *specificity* of the test is the proportion of correctly diagnosed patients among those who do not have the condition.\n",
    "\n",
    "Read those definitions a couple of times and note that a good test should have high values of both sensitivity and specificity.\n",
    "\n",
    "In the section Special Cases, the authors consider a 45-year-old woman who has a 1% chance of getting breast cancer in the subsequent five years. The article says, \"The sensitivity of routine screening mammography ranges from 71% to 96% and the specificity ranges from 94% to 97%. Using values of 80% for sensitivity and 96% for specificity, a positive test increases the probability to 17%.\"\n",
    "\n",
    "For this problem, show your work in finding each probability and box the final decimal answer.\n",
    "\n",
    "**a)** Use the same values as in the authors' calculation and confirm their result that \"a positive test increases the probability to 17%.\"\n",
    "\n",
    "**b)** Find all of the following; percents are fine too:\n",
    "\n",
    "(i) the chance that the woman won't get breast cancer in the subsequent five years\n",
    "\n",
    "(ii) the chance that the woman won't get breast cancer in the subsequent five years, if her test result is negative\n",
    "\n",
    "(iii) the chance that the woman won't get breast cancer in the subsequent five years, if her test result is positive\n",
    "\n",
    "(iv) the chance that the woman's test result is negative\n",
    "\n",
    "\n",
    "**c)** Suppose a woman went to get tested because she believed she had a 10% chance of getting breast cancer in the subsequent five years. What would be her probability of getting the disease, based on a positive test result? Use a sensitivity value of 80% and a specificity value of 96%."
   ]
  },
  {
   "cell_type": "markdown",
   "metadata": {
    "#solution": false,
    "#staff": false,
    "#student": false
   },
   "source": [
    "\\newpage"
   ]
  },
  {
   "cell_type": "markdown",
   "metadata": {
    "#solution": false,
    "#staff": false,
    "#student": false
   },
   "source": [
    "## 7. Balls in Boxes ##\n",
    "\n",
    "Students in probability classes sometimes wonder by probabilists seem to have a peculiar fascination with balls being thrown at random into boxes or drawn at random from urns. It's not just because probabilists are weird. It's because the image of balls and boxes is one unified way of thinking about repeated trials in diverse settings.\n",
    "\n",
    "For example, balls thrown at random into boxes independently of each other is a way of visualizing independent repeated trials that have equally likely outcomes. \n",
    "\n",
    "- Tossing a coin 10 times and keeping track of heads and tails is like throwing 10 balls independently at random into two boxes labeled H and T. The number of heads is the number of balls that fall in Box H.\n",
    "- Rolling a die 15 times and keeping track of the faces that appear is like throwing 15 balls independently at random into six boxes labeled $1, 2, 3, 4, 5, 6$.\n",
    "- Sampling $n$ times at random with replacement from a population of $N$ individuals is like throwing $n$ balls independently at random into $N$ boxes labeled $1, 2, \\ldots, N$. \n",
    "\n",
    "\n",
    "**a)** A random number generator that draws digits at random with replacement from $\\{0, 1, 2, 3, 4, 5, 6, 7, 8, 9\\}$ is run three times. Find the chance that the digits drawn can form the number 510, by rearrangement if necessary. \n",
    "\n",
    "Start by filling in the blanks in the following sentence; the first two blanks should be filled with integers. \"This experiment is like throwing $\\underline{~~~~~~~~~~}$ balls independently at random into $\\underline{~~~~~~~~~~}$ boxes labeled $\\underline{~~~~~~~~~~~~~~~~~~~~~~~~~~~~~~~}$.\" Then imagine where the balls must land to make the event occur. \n",
    "\n",
    "**b)** The mayor of Bogotá, Colombia, implemented a traffic regulation scheme called [Pico y Placa](https://en.wikipedia.org/wiki/Pico_y_placa) in 1998 to help decrease traffic congestion during rush hour in the city. The original scheme was a bit complicated for our purposes, so let's take a simplified model of this idea. Suppose that all cars in Bogotá only have license plates that end in numbers 1 through 7, and cars with license plate numbers ending in:\n",
    "- 1 can only drive on Mondays\n",
    "- 2 can only drive on Tuesdays\n",
    "- 3 can only drive on Wednesdays\n",
    "- 4 can only drive on Thursdays\n",
    "- 5 can only drive on Fridays\n",
    "- 6 can only drive on Saturdays\n",
    "- 7 can only drive on Sundays.\n",
    "\n",
    "Also assume that the last digit of each car's license plate number is assigned by the government at random, independently from all other cars. Consider the chance that three cars picked at random in the city are all allowed to drive on different days.\n",
    "\n",
    "Start by filling in the blanks in the following sentence; the first two blanks should be filled with integers. \"This experiment is like throwing $\\underline{~~~~~~~~~~}$ balls independently at random into $\\underline{~~~~~~~~~~}$ boxes labeled $\\underline{~~~~~~~~~~~~~~~~~~~~~~~~~~~~~~~}$.\" Then imagine where the balls must land to make the event occur. \n",
    "\n",
    "Then explicitly find the chance.\n",
    "\n",
    "**c)** A roulette wheel is split into 38 equally-sized arcs. 18 are red, 18 are black, and 2 are green. \n",
    "\n",
    "The wheel is spun three times, where the results of each spin are independent of each other. Using the scheme developed in parts **a)** and **b)**, find the chance that the wheel never lands on black.\n",
    "\n",
    "**d)** In part **c)**, are the events \"the wheel never lands on black\" and \"the wheel never lands on red\" independent? Explain your answer.\n"
   ]
  },
  {
   "cell_type": "markdown",
   "metadata": {
    "#solution": false,
    "#staff": false,
    "#student": false
   },
   "source": [
    "## Submission Instructions ##\n",
    "\n",
    "Please follow the directions below to properly submit both portions.\n",
    "\n",
    "### Written Work ###\n",
    "*  Scan all the pages into a PDF. You can use any scanner or a phone using applications such as CamScanner. Please **DO NOT** simply take pictures using your phone. \n",
    "* **Please start a new page for each question.** If you have already written multiple questions on the same page, you can crop the image in CamScanner or fold your page over (the old-fashioned way). This helps expedite grading.\n",
    "* It is your responsibility to check that all the work on all the scanned pages is legible.\n",
    "    \n",
    "### Submitting ###\n",
    "* Submit the assignment to Homework 1 on Gradescope. \n",
    "* **Make sure to assign each page of your pdf to the correct question.**\n",
    "* **It is your responsibility to verify that all of your work shows up in your final PDF submission.**\n",
    "\n",
    "If you have questions about scanning or uploading your work, please post a follow-up to the Ed thread on [Gradescope Assignment Submission](https://edstem.org/us/courses/40833/discussion/3214385).\n",
    "\n",
    "## **We will not grade assignments which do not have pages selected for each question.** ##"
   ]
  }
 ],
 "metadata": {
  "checksums": [
   "6a022d097f4bf8a378f8b543e3f2aacc",
   "5277bdbc94775fa2252e6beb176d3807",
   "4d58e9399ac7e4395bf8cfdaf0f59547",
   "cf9d9dfe6fc4fd0bc8fb28fc250cb127",
   "0959e3c8288467579f77c551e8f3a27b",
   "de027f1efe5a08451c561d1cf3ce1a02",
   "562505d567faf02dfc9388e81e89d07b",
   "ff779e63432c387f1fc9f7e0493c7671",
   "562505d567faf02dfc9388e81e89d07b",
   "1a60fcde42609d80600fc54c2ba3af39",
   "562505d567faf02dfc9388e81e89d07b",
   "06f8d0301655cb2e3ec14bfa6349d120",
   "562505d567faf02dfc9388e81e89d07b",
   "5280d9cd83edc605905cf20ec0ebc007",
   "562505d567faf02dfc9388e81e89d07b",
   "a013f0af4a7e68e2120945edb0389d52",
   "562505d567faf02dfc9388e81e89d07b",
   "47ff19ef290e19fa5607945ac2bc9697",
   "ee1b5256501d34af15c78e77f66a0cff"
  ],
  "kernelspec": {
   "display_name": "Python 3 (ipykernel)",
   "language": "python",
   "name": "python3"
  },
  "language_info": {
   "codemirror_mode": {
    "name": "ipython",
    "version": 3
   },
   "file_extension": ".py",
   "mimetype": "text/x-python",
   "name": "python",
   "nbconvert_exporter": "python",
   "pygments_lexer": "ipython3",
   "version": "3.9.15"
  },
  "number_of_pagebreaks": 0
 },
 "nbformat": 4,
 "nbformat_minor": 4
}
