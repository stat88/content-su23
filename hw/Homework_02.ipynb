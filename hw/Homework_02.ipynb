{
 "cells": [
  {
   "cell_type": "markdown",
   "metadata": {
    "#question": false,
    "#solution": false,
    "#staff": false,
    "#student": false
   },
   "source": [
    "<table align=\"left\" style=\"border-style: hidden\" class=\"table\"> <tr><td class=\"col-md-2\"><img style=\"float\" src=\"../logo.png\" alt=\"Data 88S Logo\" style=\"width: 120px;\"/></td><td><div align=\"left\"><h3 style=\"margin-top: 0;\">Probability for Data Science</h3><h4 style=\"margin-top: 20px;\">UC Berkeley, Summer 2023</h4><p>Shahzar & Salil</p>CC BY-NC 4.0</div></td></tr></table><!-- not in pdf -->\n",
    "\n",
    "This content is protected and may not be shared, uploaded, or distributed."
   ]
  },
  {
   "cell_type": "code",
   "execution_count": null,
   "metadata": {
    "#question": false,
    "#solution": false,
    "#staff": false,
    "#student": false
   },
   "outputs": [],
   "source": [
    "from datascience import *\n",
    "import numpy as np\n",
    "from scipy import stats"
   ]
  },
  {
   "cell_type": "markdown",
   "metadata": {
    "#question": false,
    "#solution": false,
    "#staff": false,
    "#student": false
   },
   "source": [
    "# Homework 2 #"
   ]
  },
  {
   "cell_type": "markdown",
   "metadata": {
    "#question": false,
    "#solution": false,
    "#staff": false,
    "#student": true
   },
   "source": [
    "### Instructions\n",
    "\n",
    "In all Data 88S homework, you will be providing written answers, not code. We encourage you to hand-write your answers. It is your responsibility to ensure that the homework is submitted completely and properly to Gradescope. **Make sure to assign each page of your pdf to the correct question. Refer to the bottom of the notebook for submission instructions.**\n",
    "\n",
    "Every answer should contain a calculation or reasoning. For example, a calculation such as $(1/3)(0.8) + (2/3)(0.7)$ is fine without further explanation or simplification. If we want you to simplify, we'll ask you to. But just ${5 \\choose 2}$ by itself is not fine; write \"we want any 2 out of the 5 frogs and they can appear in any order\" or whatever reasoning you used. Reasoning can be brief and abbreviated, e.g. \"product rule\" or \"not mutually exclusive.\"\n",
    "\n",
    "In some of the problems below, you will be provided a code cell that you can use for calculation. You do not need to use the code cell if you don't want to, but you should provide the requested decimal value in your submission. All the libraries you might need have been imported for you. Run the import cell at the top before you start the homework. \n",
    "\n",
    "We strongly recommend studying the code in [Section 3.3.5](http://stat88.org/textbook/content/Chapter_03/03_The_Binomial_Distribution.html#binomial-probabilities-in-python) of the textbook. It will be helpful for Exercises 3 and 4.\n",
    "\n",
    "**Note about terminology:** Once and for all: If a question says \"$k$ successes\" it means exactly $k$ successes."
   ]
  },
  {
   "cell_type": "markdown",
   "metadata": {
    "#question": true,
    "#solution": false,
    "#staff": false,
    "#student": false
   },
   "source": [
    "## 1. Monkey Dialing 911 ##\n",
    "\n",
    "Route, a baby Capuchin monkey in Southern California, [managed to call 911](https://abc7news.com/monkey-calls-911-ca-zoo-capuchin-san-luis-obispo-route-the/12131565/) on a cell phone. Nobody is quite sure how Route did this, but let's see what the probabilities look like if we make up some assumptions.\n",
    "\n",
    "**a)** Suppose a cell phone screen has Call button as well as a grid of 12 buttons consisting of \n",
    "\n",
    "- one each for the 10 digits 0 through 9, \n",
    "- the \\* symbol, and \n",
    "- the \\# symbol.\n",
    "\n",
    "Suppose that each time a monkey presses a button on this screen, it has a 70% chance of picking the brightly colored Call button and a 30% chance of picking at a button at random from the other 12 buttons, independent of its choices at all other times. \n",
    "\n",
    "What is the chance that the first four buttons the monkey presses are 9, 1, 1, Call, in that order? Write the arithmetic expression on paper (not in code) and provide its numerical value. You can use the code cell below, or a calculator, or any such computational device. We will not grade your code."
   ]
  },
  {
   "cell_type": "code",
   "execution_count": null,
   "metadata": {
    "#question": false,
    "#solution": false,
    "#staff": false,
    "#student": true
   },
   "outputs": [],
   "source": [
    "# Calculation for a\n",
    "\n",
    "..."
   ]
  },
  {
   "cell_type": "markdown",
   "metadata": {
    "#question": true,
    "#solution": false,
    "#staff": false,
    "#student": false
   },
   "source": [
    "\n",
    "**b)** Now suppose each of 500 monkeys has a cell phone screen just like the one in Part **a**, and each monkey presses the buttons under the assumptions of Part **a** independently of all other monkeys. What is the chance that at least one of the 500 monkeys chooses 9, 1, 1, Call (in that order) as the first four buttons to press? As in Part **a**, write the arithmetic expression on paper and then find its numerical value."
   ]
  },
  {
   "cell_type": "code",
   "execution_count": null,
   "metadata": {
    "#question": false,
    "#solution": false,
    "#staff": false,
    "#student": true
   },
   "outputs": [],
   "source": [
    "# Calculation for b\n",
    "\n",
    "..."
   ]
  },
  {
   "cell_type": "markdown",
   "metadata": {
    "#question": false,
    "#solution": false,
    "#staff": false,
    "#student": false
   },
   "source": [
    "\\newpage"
   ]
  },
  {
   "cell_type": "markdown",
   "metadata": {
    "#question": true,
    "#solution": false,
    "#staff": false,
    "#student": false
   },
   "source": [
    "## 2. Faces of a Tetrahedron ##\n",
    "\n",
    "A tetrahedron is a regular four-sided figure, like a four-sided die. Assume that when I roll a tetrahedron, each of the four sides is equally likely to appear, independent of all other rolls. \n",
    "\n",
    "Suppose the sides of the tetrahedron are labeled 1, 2, 3, and 4. Define two random variables:\n",
    "\n",
    "- $X$ is the label that I see on the first roll\n",
    "- $D$ is the number of times I roll till I see a label I have seen before\n",
    "\n",
    "For example, if the first few labels are 3, 4, 1, 3, 1, 2, 1 then $X = 3$ and $D = 4$.\n",
    "\n",
    "**a)** What is the distribution of $X$?\n",
    "\n",
    "**b)** What are the possible values of $D$?\n",
    "\n",
    "**c)** Find the distribution of $D$. Remember to explain your answer, and write arithmetic expressions for the probabilities involved. \n",
    "\n",
    "**d)** Find the decimal values of the probabilities in Part **c**. What should their sum be? Check this numerically using a calculator or the code cell below.\n",
    "\n",
    "**e)** What is the most likely value of $D$, and what is its probability?\n",
    "\n",
    "**f)** Find $P(X = 2, D = 3)$. Write it as an arithmetic expression and find its decimal value using a calculator or the code cell below."
   ]
  },
  {
   "cell_type": "code",
   "execution_count": null,
   "metadata": {
    "#question": false,
    "#solution": false,
    "#staff": false,
    "#student": true
   },
   "outputs": [],
   "source": [
    "# Calculations\n",
    "\n",
    "..."
   ]
  },
  {
   "cell_type": "markdown",
   "metadata": {
    "#question": false,
    "#solution": false,
    "#staff": false,
    "#student": false
   },
   "source": [
    "\\newpage"
   ]
  },
  {
   "cell_type": "markdown",
   "metadata": {
    "#question": true,
    "#solution": false,
    "#staff": false,
    "#student": false
   },
   "source": [
    "## 3. Daily Instagram Users ##\n",
    "\n",
    "According to a [survey](https://www.pewresearch.org/fact-tank/2021/10/07/7-facts-about-americans-and-instagram/), 59% of U.S. adults on Instagram use the site daily. Accept this proportion as correct, and suppose you sample 25 times at random with replacement from U.S. adults on Instagram.\n",
    "\n",
    "For the numerical calculations below, we recommend following the code examples in [Section 3.3.5](http://stat88.org/textbook/content/Chapter_03/03_The_Binomial_Distribution.html#binomial-probabilities-in-python) of the textbook. You don't have to import the library. It has been imported for you in the top cell of this notebook.\n",
    "\n",
    "**a)** What is the distribution of the number of sampled adults who use Instagram daily?\n",
    "\n",
    "**b)** What is the chance that fewer than half of the sampled adults use Instagram daily? Write a mathematical expression for this chance, and then calculate the decimal value. You can use the code cell below. "
   ]
  },
  {
   "cell_type": "code",
   "execution_count": null,
   "metadata": {
    "#question": false,
    "#solution": false,
    "#staff": false,
    "#student": true
   },
   "outputs": [],
   "source": [
    "# Calculation for b\n",
    "\n",
    "..."
   ]
  },
  {
   "cell_type": "markdown",
   "metadata": {
    "#question": true,
    "#solution": false,
    "#staff": false,
    "#student": false
   },
   "source": [
    "\n",
    "**c)** What is the chance that your sample contains 15 adults who use Instagram daily, and 7 of those people appeared in the first 10 draws? As in Part **b**, write a mathematical expression and then calculate the decimal value. You can use the code cell below."
   ]
  },
  {
   "cell_type": "code",
   "execution_count": null,
   "metadata": {
    "#question": false,
    "#solution": false,
    "#staff": false,
    "#student": true
   },
   "outputs": [],
   "source": [
    "# Calculation for c\n",
    "\n",
    "..."
   ]
  },
  {
   "cell_type": "markdown",
   "metadata": {
    "#question": false,
    "#solution": false,
    "#staff": false,
    "#student": false
   },
   "source": [
    "\\newpage"
   ]
  },
  {
   "cell_type": "markdown",
   "metadata": {
    "#question": true,
    "#solution": false,
    "#staff": false,
    "#student": false
   },
   "source": [
    "## 4. Thoughtful Politicians ##\n",
    "\n",
    "[This problem setting is due to [Prof. James Norris](https://www.maths.cam.ac.uk/person/jrn10) of Cambridge University.]\n",
    "\n",
    "In a group of 100 politicians, 40 are in Party I and 60 are in Party II. Members of Party I are incapable of changing their minds about anything. Members of Party II change their minds completely randomly every day, independently of all others and also independently of all evidence.\n",
    "\n",
    "Tomorrow, the politicians are going to vote on Proposition 88. Here is a summary of their opinions today.\n",
    "\n",
    "Of the 40 members in Party I, 25 are in favor of Prop 88 and 15 are against.\n",
    "Of the 60 members in Party II, 10 are in favor and 50 are against.\n",
    "Assume that each member in Party II changes their mind based on the toss of a coin: if it lands heads they switch to the opposite opinion and if it lands tails they don't change their mind.\n",
    "\n",
    "**a)** What is the distribution of the number of members in Party II who will favor Prop 88 tomorrow? In what way, if any, does it depend on the information given about the opinions of Party II members today?\n",
    "\n",
    "**b)** Write a math expression for the chance that a majority (more than 50) of the 100 politicians favor Prop 88 tomorrow and then find its decimal value. You can use the code cell below."
   ]
  },
  {
   "cell_type": "code",
   "execution_count": null,
   "metadata": {
    "#question": false,
    "#solution": false,
    "#staff": false,
    "#student": true
   },
   "outputs": [],
   "source": [
    "# Calculation for b\n",
    "\n",
    "..."
   ]
  },
  {
   "cell_type": "markdown",
   "metadata": {
    "#question": false,
    "#solution": false,
    "#staff": false,
    "#student": false
   },
   "source": [
    "\\newpage"
   ]
  },
  {
   "cell_type": "markdown",
   "metadata": {
    "#question": true,
    "#solution": false,
    "#staff": false,
    "#student": false
   },
   "source": [
    "## 5. Treatment and Control ##\n",
    "\n",
    "A randomized controlled experiment has 50 participants, of whom 20 are women. A simple random sample of 25 participants is assigned to the treatment group and the remainder to the control group.\n",
    "\n",
    "**a)** Say whether the following statement is true or false. If it is true, provide a math expression for the chance. If it is false, provide math expressions for the two chances.\n",
    "\n",
    "$P(\\text{the treatment group has 16 women}) ~ = ~ P(\\text{the control group has 16 women})$\n",
    "\n",
    "**b)** Say whether the following statement is true or false, and justify your answer.\n",
    "\n",
    "The event \"the treatment group has 16 women\" is independent of the event \"the control group has 16 women\".\n",
    "\n",
    "**c)** Write a math expression for the chance that there are at least six women in both groups.\n",
    "\n",
    "[*Hint:* This can be done by just thinking about the women in one of the groups. Any other way will prove quite a bit harder.]"
   ]
  },
  {
   "cell_type": "markdown",
   "metadata": {
    "#question": false,
    "#solution": false,
    "#staff": false,
    "#student": false
   },
   "source": [
    "\\newpage"
   ]
  },
  {
   "cell_type": "markdown",
   "metadata": {
    "#question": true,
    "#solution": false,
    "#staff": false,
    "#student": false
   },
   "source": [
    "## 6. Using a CDF\n",
    "The figure below shows the graph of a function $F$ which is the cumulative distribution function (cdf) of a random variable $X$. \n",
    "\n",
    "![cdf](hw2_q6_graph.png)\n",
    "\n",
    "**a)** Make a distribution table for $X$.\n",
    "\n",
    "**b)** Find $P(\\vert X - 1 \\vert \\le 1)$.\n",
    "\n",
    "**c)** Find $P((X-1)(X-3) = 0)$."
   ]
  },
  {
   "cell_type": "markdown",
   "metadata": {
    "#question": false,
    "#solution": false,
    "#staff": false,
    "#student": false
   },
   "source": [
    "\\newpage"
   ]
  },
  {
   "cell_type": "markdown",
   "metadata": {
    "#question": true,
    "#solution": false,
    "#staff": false,
    "#student": false
   },
   "source": [
    "## 7. Collecting Bears ##\n",
    "\n",
    "A cereal company puts a small plastic bear in some of its cereal boxes. Customers who collect 10 of these bears win a grand prize.\n",
    "\n",
    "Suppose that each box contains a bear with chance 1/5, independently of all other boxes. Suppose also that Dea buys one box of this cereal each week.\n",
    "\n",
    "Let $T_1$ be the number of weeks it takes for Dea to get her first bear.\n",
    "\n",
    "Let $T_{10}$ be the number of weeks it takes for Dea to get her tenth bear.\n",
    "\n",
    "Find the following probabilities. In each part, first write a math expression for the chance. If you have any infinite sums in your expression, please be sure to simplify them. Then find the decimal values. You can use the code cell at the end of the exercise. Remember that you can use `stats.binom.pmf` for binomial probabilities, and `stats.binom.cdf` for the binomial cdf. Provide the numerical value along with your math expression. \n",
    "\n",
    "**a)** $P(T_1 > 12)$\n",
    "\n",
    "**b)** $P(T_{10} = 40)$\n",
    "\n",
    "**c)** $P(T_{10} > 40)$\n",
    "\n",
    "**d)** $P(T_{10} > 40 \\mid T_{1} = 8)$"
   ]
  },
  {
   "cell_type": "code",
   "execution_count": null,
   "metadata": {
    "#question": false,
    "#solution": false,
    "#staff": false,
    "#student": true
   },
   "outputs": [],
   "source": [
    "# Calculations\n",
    "\n",
    "..."
   ]
  },
  {
   "cell_type": "markdown",
   "metadata": {
    "#question": false,
    "#solution": false,
    "#staff": false,
    "#student": false
   },
   "source": [
    "\\newpage"
   ]
  },
  {
   "cell_type": "markdown",
   "metadata": {
    "#question": true,
    "#solution": false,
    "#staff": false,
    "#student": false
   },
   "source": [
    "## 8. Missing after Resampling ##\n",
    "\n",
    "A sample of $n$ people includes Stuti, Nathan, and Kate. A bootstrap sample ($n$ draws at random with replacement) is drawn from the sample. [Students who are concurrently in Data 8: you'll see lots of bootstrap samples in that class soon.]\n",
    "\n",
    "**a)** Find the chance the probability that none of Stuti, Nathan, and Kate is chosen in the bootstrap sample. Be careful about your use of the multiplication rule.\n",
    "\n",
    "**b)** In the code cell below, write a Python expression that evaluates to the decimal value to Part **a** when $n = 5$. As usual, you won't be turning in the cell. Just pick the choice that arises from your calculation in Part **a**. If you pick (iii), provide the decimal value of your answer.\n",
    "\n",
    "When $n = 5$ the answer to Part **a** is about\n",
    "\n",
    "(i) 1%\n",
    "\n",
    "(ii) 3.5%\n",
    "\n",
    "(iii) Other: $\\underline{~~~~~~~~~~~~~~~~~~~}$"
   ]
  },
  {
   "cell_type": "code",
   "execution_count": null,
   "metadata": {
    "#question": false,
    "#solution": false,
    "#staff": false,
    "#student": true
   },
   "outputs": [],
   "source": [
    "# Calculation for b\n",
    "\n",
    "..."
   ]
  },
  {
   "cell_type": "markdown",
   "metadata": {
    "#question": true,
    "#solution": false,
    "#staff": false,
    "#student": false
   },
   "source": [
    "\n",
    "**c)** Find an exponential approximation to the answer in Part **a** when $n$ is large, and then find its decimal value. You can use the code cell below to find the decimal value of your approximation. Remember that `np.e` evaluates to $e$. Remember to provide the decimal value with your answer."
   ]
  },
  {
   "cell_type": "code",
   "execution_count": null,
   "metadata": {
    "#question": false,
    "#solution": false,
    "#staff": false,
    "#student": true
   },
   "outputs": [],
   "source": [
    "# Calculation for c\n",
    "\n",
    "..."
   ]
  },
  {
   "cell_type": "markdown",
   "metadata": {
    "#question": false,
    "#solution": false,
    "#staff": false,
    "#student": true
   },
   "source": [
    "## Submission Instructions ##\n",
    "\n",
    "Please follow the directions below to properly submit both portions.\n",
    "\n",
    "### Written Work ###\n",
    "*  Scan all the pages into a PDF. You can use any scanner or a phone using applications such as CamScanner. Please **DO NOT** simply take pictures using your phone. \n",
    "* **Please start a new page for each question.** If you have already written multiple questions on the same page, you can crop the image in CamScanner or fold your page over (the old-fashioned way). This helps expedite grading.\n",
    "* It is your responsibility to check that all the work on all the scanned pages is legible.\n",
    "    \n",
    "### Submitting ###\n",
    "* Submit the assignment to Homework 2 on Gradescope. \n",
    "* **Make sure to assign each page of your pdf to the correct question.**\n",
    "* **It is your responsibility to verify that all of your work shows up in your final PDF submission.**\n",
    "\n",
    "If you have questions about scanning or uploading your work, please post a follow-up to the Ed thread on [Gradescope Assignment Submission](https://edstem.org/us/courses/40833/discussion/3214385).\n",
    "\n",
    "## **We will not grade assignments which do not have pages selected for each question.** ##"
   ]
  }
 ],
 "metadata": {
  "checksums": [
   "6a022d097f4bf8a378f8b543e3f2aacc",
   "d81c015fe17ef0f91b778d7089110778",
   "b33297e1eff1902e80bcc722d659baa9",
   "78b53b60198c2a234bedf3bbf52e5ed9",
   "5c22be44fb051cfa195328900afb476e",
   "c97115c51db7140b3b42a9f66ab6e8fd",
   "7d53736f6a476f9027d3ae83bc5944ed",
   "edc2a654819ca63a1772108f8016f75e",
   "562505d567faf02dfc9388e81e89d07b",
   "7311bf74ae1275f767f7f276091c6298",
   "2e29deec30b502bac6483198514729be",
   "562505d567faf02dfc9388e81e89d07b",
   "1fe4f6f5718191ffd74afcb968a9d8df",
   "edc2a654819ca63a1772108f8016f75e",
   "06db822c061cebbcb3edb81451fad457",
   "95ee4f9101c3fde3bcfac91a3def6ddf",
   "562505d567faf02dfc9388e81e89d07b",
   "0a1da012ce1e79e901ebb26f5363e499",
   "edc2a654819ca63a1772108f8016f75e",
   "562505d567faf02dfc9388e81e89d07b",
   "03c369199358f76734776260e1ecbf76",
   "562505d567faf02dfc9388e81e89d07b",
   "c38f65dda59c52be43846d1cbd9be39b",
   "562505d567faf02dfc9388e81e89d07b",
   "5d13b1940d082f10d3884f06118be172",
   "2e29deec30b502bac6483198514729be",
   "562505d567faf02dfc9388e81e89d07b",
   "557201a3951212c596c5484af6a2c850",
   "edc2a654819ca63a1772108f8016f75e",
   "a9b0bb63275e09c332cd83e67303a72e",
   "95ee4f9101c3fde3bcfac91a3def6ddf",
   "e8e330b1e07c89e689cc1d96a681e774"
  ],
  "kernelspec": {
   "display_name": "Python 3",
   "language": "python",
   "name": "python3"
  },
  "language_info": {
   "codemirror_mode": {
    "name": "ipython",
    "version": 3
   },
   "file_extension": ".py",
   "mimetype": "text/x-python",
   "name": "python",
   "nbconvert_exporter": "python",
   "pygments_lexer": "ipython3",
   "version": "3.7.11"
  },
  "number_of_pagebreaks": 0
 },
 "nbformat": 4,
 "nbformat_minor": 4
}
