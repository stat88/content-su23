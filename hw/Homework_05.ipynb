{
 "cells": [
  {
   "cell_type": "markdown",
   "id": "aa2ba279-d3e7-44e6-bfa6-f4267e456af6",
   "metadata": {
    "#question": false,
    "#solution": false,
    "#staff": false,
    "#student": false
   },
   "source": [
    "<table align=\"left\" style=\"border-style: hidden\" class=\"table\"> <tr><td class=\"col-md-2\"><img style=\"float\" src=\"../logo.png\" alt=\"Data 88S Logo\" style=\"width: 120px;\"/></td><td><div align=\"left\"><h3 style=\"margin-top: 0;\">Probability for Data Science</h3><h4 style=\"margin-top: 20px;\">UC Berkeley, Summer 2023</h4><p>Shahzar & Salil</p>CC BY-NC 4.0</div></td></tr></table><!-- not in pdf -->\n",
    "\n",
    "This content is protected and may not be shared, uploaded, or distributed."
   ]
  },
  {
   "cell_type": "code",
   "execution_count": null,
   "id": "bbe91c42",
   "metadata": {
    "#question": false,
    "#solution": false,
    "#staff": false,
    "#student": false
   },
   "outputs": [],
   "source": [
    "from datascience import *\n",
    "import numpy as np\n",
    "from scipy import stats"
   ]
  },
  {
   "cell_type": "markdown",
   "id": "962f6f62-fa8e-4e4d-be02-ef503e919c44",
   "metadata": {
    "#question": false,
    "#solution": false,
    "#staff": false,
    "#student": false
   },
   "source": [
    "# Homework 5"
   ]
  },
  {
   "cell_type": "markdown",
   "id": "9ad46a43-0986-48b1-b7e0-a763b6e546e7",
   "metadata": {
    "#question": false,
    "#solution": false,
    "#staff": false,
    "#student": true,
    "tags": []
   },
   "source": [
    "### Instructions\n",
    "\n",
    "In all Data 88S homework, you will be providing written answers, not code. We encourage you to hand-write your answers. It is your responsibility to ensure that the homework is submitted completely and properly to Gradescope. **Make sure to assign each page of your pdf to the correct question. Refer to the bottom of the notebook for submission instructions.**\n",
    "\n",
    "Every answer should contain a calculation or reasoning. For example, a calculation such as $(1/3)(0.8) + (2/3)(0.7)$ is fine without further explanation or simplification. If we want you to simplify, we'll ask you to. But just ${5 \\choose 2}$ by itself is not fine; write \"we want any 2 out of the 5 frogs and they can appear in any order\" or whatever reasoning you used. Reasoning can be brief and abbreviated, e.g. \"product rule\" or \"not mutually exclusive.\"\n",
    "\n",
    "In some of the problems below, you will be provided a code cell that you can use for calculation. You do not need to use the code cell if you don't want to, but you should provide the requested decimal value in your submission. All the libraries you might need have been imported for you. Run the import cell at the top before you start the homework. "
   ]
  },
  {
   "cell_type": "markdown",
   "id": "0fb2c156",
   "metadata": {
    "#question": true,
    "#solution": false,
    "#staff": false,
    "#student": false
   },
   "source": [
    "\n",
    "## 1. The Ghost of 88S Past 😈 ##\n",
    "\n",
    "Each of the parts below provides a scenario which ends by defining a random variable. If that random variable has one of the famous distributions (uniform, Bernoulli, binomial, hypergeometric, geometric, or Poisson), state its distribution. As usual, this means that you should state the name and parameter(s) in terms of the given quantities. Otherwise, answer \"None.\"\n",
    "\n",
    "No justification is necessary. \n",
    "\n",
    "**a)** A sample contains $n$ people. A bootstrap sample ($n$ draws at random with replacement) is drawn from the sample. Let $X$ be the number of people who appear in both samples.\n",
    "\n",
    "**b)** A sample of $n$ people contains Vicente. A bootstrap sample ($n$ draws at random with replacement) is drawn from the sample. Let $N$ be the number of times Vicente appears in the bootstrap sample.\n",
    "\n",
    "**c)** Rafael tosses a fair coin repeatedly. Let $T$ be the number of tosses until Rafael gets 3 heads.\n",
    "\n",
    "**d)** Lamisah tosses a fair coin repeatedly. Let $T$ be the number of tosses until Lamisah gets heads.\n",
    "\n",
    "**e)** Steven has 15 coins, out of which 7 are fair and 8 are biased. Steven selects 5 of these coins at random to deposit at the bank. Let $F$ be the number of fair coins which Steven deposits at the bank. \n",
    "\n",
    "**f)** Lucas has a bag of 20 chocolates, out of which 9 are dark chocolates. Lucas draws a chocolate, checks the flavor, and puts it back in the bag. He does this 10 times. Let $D$ be the number of dark chocolates Lucas gets in his 10 draws.\n",
    "\n",
    "**g)** Kathy has a bag of 20 chocolates, out of which 9 are dark chocolates. Kathy draws a chocolate and gives it to a friend. She does this 10 times. Let $D$ be the number of dark chocolates Kathy gives away.\n",
    "\n",
    "**h)** A class has 120 students of whom 80 are seniors. For the final project, the professor splits the class randomly into 20 groups of 6 students each. That is, he chooses six students at random without replacement from all 120 students, then six at random without replacement from the remaining 114 students, and so on. Let $X$ be the number of seniors in the last project group that the professor makes.\n",
    "\n",
    "**i)** Kaneesha rolls a six-sided die. Let $X$ be the number of spots on the face that appears.\n",
    "\n",
    "**j)** Hannah rolls a six-sided die repeatedly. Let $D$ be the number of rolls until Hannah sees a face she has seen before. For example, if the results of the first few rolls are 6, 2, 5, 3, 1, 3, 2, then $D = 6$. \n",
    "\n",
    "**k)** Each of $n$ students has a backpack that looks the same on the outside as everyone else's. Each student picks up a backpack at random without replacement. Let $N$ be the number of students who pick up their own backpack.\n",
    "\n",
    "**l)** Cedric deals cards one-by-one at random without replacement until an ace appears. Let $X$ be the number of cards Cedric deals.\n",
    "\n",
    "**m)** The number of alpha particles emitted by a radioactive substance each minute has the Poisson (20) distribution. The number of beta particles emitted by the substance each minute has the Poisson (5) distribution, independent of the number of alpha particles emitted. Let $R$ be the total number of particles emitted by the substance in one minute.\n",
    "\n",
    "**n)** On a given day, 2 out of the 21 students that come to McCone 141 wear hats.\n",
    "\n",
    "Megan watches the 21 students enter McCone 141. If a student is wearing a hat, Megan writes down a \"1\" in her notebook; otherwise she writes a \"0\". Let $X$ be the number Megan writes down after seeing a randomly selected student.\n",
    "\n",
    "**o)** A simple machine has a display and a button. The machine has the following behavior each time the button is pressed, independently of all other button presses.\n",
    "\n",
    "- If it is currently displaying ```0```:\n",
    "    - it continues displaying ```0``` with probability $\\frac{1}{3}$;\n",
    "    - it changes to displaying ```1``` with probability $\\frac{2}{3}$.\n",
    "- If it is currently displaying ```1```:\n",
    "    - it continues displaying ```1``` with probability $\\frac{1}{3}$;\n",
    "    - it changes to displaying ```0``` with probability $\\frac{2}{3}$.\n",
    "\n",
    "Neev presses the button $n$ times. Let $C$ be the number of times the display changes. For example, if $n = 6$ and the sequence of numbers the machine displays is ```001110```, $C = 2$."
   ]
  },
  {
   "cell_type": "markdown",
   "id": "95394dcf",
   "metadata": {
    "#question": false,
    "#solution": false,
    "#staff": false,
    "#student": false
   },
   "source": [
    "\\newpage"
   ]
  },
  {
   "cell_type": "markdown",
   "id": "254c7a2c-f686-47ef-8f64-03813fe676d9",
   "metadata": {
    "#question": true,
    "#solution": false,
    "#staff": false,
    "#student": false,
    "tags": []
   },
   "source": [
    "## 2. Is This Normal? ##\n",
    "\n",
    "Each of the parts below provides a scenario which ends by defining a random variable. If that random variable is guaranteed to be approximately normal by the Central Limit Theorem, state why and provide its mean and standard deviation. Otherwise, explain why the Central Limit Theorem cannot be applied.\n",
    "\n",
    "**a)** The amounts of salsa a taco shop puts on its tacos are independent and identically distributed random variables with mean 3 mL and standard deviation 1 mL. Minyeong orders a taco from the shop. Let $V$ be the amount of salsa on Minyeong's taco.\n",
    "\n",
    "**b)** In the city of Berkeley (which has a population of about 220,000), the distances Berkeleyans walk in one day have mean 4 miles and standard deviation 1 mile. A simple random sample of a thousand people is taken from the population. For $X_1, \\ldots, X_{1000}$ the distances walked by the people in the sample, let $S_{1000} = X_1 + \\ldots + X_{1000}$ be the sample sum.\n",
    "\n",
    "**c)** A certain Starbucks location sells on average 20 cups of coffee every hour, with a standard deviation of 8 cups. Moreover, the number of cups of coffee sold in each hour are independent of each other.\n",
    "\n",
    "Khushi picks 500 different hours at random and counts how many cups of coffee are sold in those hours. For $N_1, \\ldots, N_{500}$ the numbers of cups of coffee sold in those hours, let $A_{500} = \\frac{1}{500} \\sum_{i=1}^{500} N_i$ be the sample average.\n",
    "\n",
    "**d)** Suppose Stanford students (of which there are about 17,000) can jump an average of 2 inches with a standard deviation of 1 inch. Jessica takes a simple random sample of 600 Stanford students and measures how high each one jumps. For $H_1, \\ldots, H_{600}$ the jumps Jessica measures, let $Q_{600} = \\sqrt{\\frac{1}{600}\\sum_{i=1}^{600} H_i}$ be the square root of the sample average.\n",
    "\n",
    "**e)** Suppose that the weights of cars on the Interstate 80 highway (which sees about 91,000 vehicles each day) on a given day have mean 3.5 tons and a standard deviation of 0.5 tons. Amanda chooses 5 cars at random on that day and measures their weights. For $W_1, \\ldots, W_{5}$ the weights of the five cars, let $S_5$ be the sample sum. \n",
    "\n",
    "**f)** The temperatures over a period of time have a mean of 35.2°F and a standard deviation of 0.52°F. Manaz randomly selects a sequence of 100 consecutive days and measures the temperature during those days. For $T_1, \\ldots T_{100}$ the temperatures Manaz measures, let $A_{100} = \\frac{1}{100} \\sum_{i=1}^{100} T_i$ be the sample average."
   ]
  },
  {
   "cell_type": "markdown",
   "id": "9c548083",
   "metadata": {
    "#question": false,
    "#solution": false,
    "#staff": false,
    "#student": false
   },
   "source": [
    "\\newpage"
   ]
  },
  {
   "cell_type": "markdown",
   "id": "cff5b581",
   "metadata": {
    "#question": true,
    "#solution": false,
    "#staff": false,
    "#student": false,
    "tags": []
   },
   "source": [
    "## 3. Sugary Cookies ##\n",
    "\n",
    "The amounts of sugar in a cookie sold in a grocery store are i.i.d. with a mean of 5 grams and an SD of 3 grams. Mia is holding a large party and purchases 400 cookies from the grocery store.\n",
    "\n",
    "**a)** Suppose you draw a histogram of the amounts of sugar in Mia's cookies. Is the histogram likely to look normal? Why or why not?\n",
    "\n",
    "**b)** The supposed histogram from **a** is the *sample* histogram. In the sample histogram, the heights of the bars are the proportion of the sample that fall within the corresponding bins. Similarly, in the *population* histogram, the heights of the bars are the proportion of the population that fall within the corresponding bins.\n",
    "\n",
    "Do the sample and population histograms resemble each other? Why or why not?\n",
    "\n",
    "**c)** Find, approximate, or bound the chance that the first cookie Mia purchases has at least 7 grams of sugar. (Now and forever, \"find, approximate, or bound\" means you should find the chance if possible; if it is not possible, you should approximate it; and if even that is not possible, you should bound it.)\n",
    "\n",
    "**d)** Let $\\bar{X}$ be the average amount of sugar in Mia's cookies. Sketch the distribution of $\\bar{X}$. Mark the mean and the SD on your sketch.\n",
    "\n",
    "**e)** As discussed in **b**, in the sample histogram, the heights of the bars correspond to the proportions of cookies in the sample that fall in the corresponding bins. Explain what the heights of the bars in the distribution from part **d** represent. For concreteness, you can just explain what the height of the bar above $6$ represents.\n",
    "\n",
    "**f)** Find, approximate, or bound the chance that the average amount of sugar in Mia's cookies is at least 7 grams.\n",
    "\n",
    "**g)** Fill in the blank with a number and show your calculation:\n",
    "\n",
    "There is about a 97% chance that the average amount of sugar in Mia's cookies is at most $\\underline{~~~~~~~~~~~~~~~~~~~~}$ grams. You can use the code cell below for any calculations."
   ]
  },
  {
   "cell_type": "code",
   "execution_count": null,
   "id": "a79ffbb2-1f3b-42ac-b99a-76e13a2ad427",
   "metadata": {
    "#question": false,
    "#solution": false,
    "#staff": false,
    "#student": true
   },
   "outputs": [],
   "source": [
    "# Calculations for g\n",
    "\n",
    "..."
   ]
  },
  {
   "cell_type": "markdown",
   "id": "974a212a",
   "metadata": {
    "#question": false,
    "#solution": false,
    "#staff": false,
    "#student": false
   },
   "source": [
    "\\newpage"
   ]
  },
  {
   "cell_type": "markdown",
   "id": "d79f8807-3465-4106-92f6-3ba0b50ec387",
   "metadata": {
    "#question": true,
    "#solution": false,
    "#staff": false,
    "#student": false
   },
   "source": [
    "## 4. Ages ##\n",
    "\n",
    "In a simple random sample of size 400 drawn from a population, the average age is 40 years and the SD is 20 years. Also, 18% of the people in the sample are senior citizens. \n",
    "\n",
    "As usual, for Parts **a** and **c**, show your work of how you constructed the confidence interval. Then provide a final numerical answer for the interval. You can use the code cell below.\n",
    "\n",
    "**a)** Construct an approximate 95% confidence interval for the average age of the people in the population.\n",
    "\n",
    "**b)** True or false (explain): The ages of approximately 95% of the population are in the interval you found in Part **a**.\n",
    "\n",
    "**c)** Construct an approximate 95% confidence interval for the **percent** (not the proportion) of senior citizens in the population."
   ]
  },
  {
   "cell_type": "code",
   "execution_count": null,
   "id": "7d7cd4d2-a186-4121-b460-bb340d46a9e7",
   "metadata": {
    "#question": false,
    "#solution": false,
    "#staff": false,
    "#student": true
   },
   "outputs": [],
   "source": [
    "# Calculations for a\n",
    "\n",
    "..."
   ]
  },
  {
   "cell_type": "code",
   "execution_count": null,
   "id": "9074804b-e859-4276-9c8d-dc060abd74fa",
   "metadata": {
    "#question": false,
    "#solution": false,
    "#staff": false,
    "#student": true
   },
   "outputs": [],
   "source": [
    "# Calculations for c\n",
    "\n",
    "..."
   ]
  },
  {
   "cell_type": "markdown",
   "id": "34016f82-763d-40dd-926e-414b483f0402",
   "metadata": {
    "#question": false,
    "#solution": false,
    "#staff": false,
    "#student": false
   },
   "source": [
    "\\newpage"
   ]
  },
  {
   "cell_type": "markdown",
   "id": "e20e073c",
   "metadata": {
    "#question": true,
    "#solution": false,
    "#staff": false,
    "#student": false,
    "tags": []
   },
   "source": [
    "## 5. Airlifting Rhinos ##\n",
    "\n",
    "Poaching is a real threat to rhinoceros in southern Africa, so governments and NGOs in the region often relocate the rhinos to protect them. However, relocating them by road is often impractical, so they sometimes airlift them by tying up their feet and suspending them from underneath a helicopter (after tranquilizing them, of course). \n",
    "\n",
    "![](hw5_q5_image.jpg)\n",
    "\n",
    "There was an [academic paper](https://meridian.allenpress.com/jwd/article/57/2/357/451340/THE-PULMONARY-AND-METABOLIC-EFFECTS-OF-SUSPENSION) to test how this activity affected the rhinos' health. \n",
    "\n",
    "It's important to test how well the rhinos are breathing when suspended by their feet—so scientists check their mean breathing rate. Obviously, the population mean breathing rate $\\mu$ for rhinos as a species is unknown. In this study, the sampled rhinos had an average breathing rate of $5.6$ breaths per minute with a standard deviation of $1.2$ breaths per minute. Suppose, for this question, that the sample was a simple random sample of 100 rhinos from the population.\n",
    "\n",
    "**a)** Let $R$ be the breating rate in breaths per minute of a randomly chosen rhino from the poulation. True or false: $E(R) = 5.6$. Explain your answer.\n",
    "\n",
    "**b)** Find or approximate the population standard deviation of the breathing rates of rhinos. State explicitly whether you found the value or approximated it, and justify your answer.\n",
    "\n",
    "**c)** Construct a 96% confidence interval for the underlying mean $\\mu$."
   ]
  },
  {
   "cell_type": "code",
   "execution_count": null,
   "id": "79ee26b6-6c24-43b1-95b9-3f0a65510db6",
   "metadata": {
    "#question": false,
    "#solution": false,
    "#staff": false,
    "#student": true
   },
   "outputs": [],
   "source": [
    "# Calculations\n",
    "\n",
    "..."
   ]
  },
  {
   "cell_type": "markdown",
   "id": "2e41f46c-2a63-4ccf-a1f2-dc9341ea040c",
   "metadata": {
    "#question": false,
    "#solution": false,
    "#staff": false,
    "#student": false
   },
   "source": [
    "\\newpage"
   ]
  },
  {
   "cell_type": "markdown",
   "id": "12c2e761-49ce-48de-8c52-ed360e3e6f2d",
   "metadata": {
    "#question": true,
    "#solution": false,
    "#staff": false,
    "#student": false,
    "tags": []
   },
   "source": [
    "## 6. Taste Test ##\n",
    "\n",
    "A student claims to be able to distinguish the taste of Cal Blue coffee from Cal Gold coffee, even though his friends say the two coffees are the same in appearance, aroma, and taste. The student agrees to take a blind taste test consisting of 10 trials as follows.\n",
    "\n",
    "On each trial, the student is given two identical unmarked cups (small ones!), one containing Cal Blue and the other containing Cal Gold. He is not told which is which. He has to drink the contents and say which one is Cal Blue.\n",
    "\n",
    "The student picks correctly on 9 out of the 10 trials. He says that his friends now have to accept his claim. His friends say they will do no such thing because he could just have been guessing at random. \n",
    "\n",
    "Decide which position is better supported by the data, in the following steps.\n",
    "\n",
    "**a)** State an appropriate null hypothesis in non-technical terms and also as a set of assumptions about random variables.\n",
    "\n",
    "**b)** State an appropriate alternative hypothesis.\n",
    "\n",
    "**c)** What test statistic are you going to use? Justify your choice.\n",
    "\n",
    "**d)** Find a mathematical expresssion for an exact or approximate $p$-value, and then find its decimal value. You can use the code cell below.\n",
    "\n",
    "**e)** At the 5% level, what is the conclusion of the test? Why?"
   ]
  },
  {
   "cell_type": "code",
   "execution_count": null,
   "id": "a0773a0f-80e4-4b3e-ac06-5b3fb93b2d9e",
   "metadata": {
    "#question": false,
    "#solution": false,
    "#staff": false,
    "#student": true
   },
   "outputs": [],
   "source": [
    "# For calculating the decimal value of your expression for the p-value in e.\n",
    "\n",
    "..."
   ]
  },
  {
   "cell_type": "markdown",
   "id": "6737c94d-306f-4bbd-9487-b22932388c21",
   "metadata": {
    "#question": false,
    "#solution": false,
    "#staff": false,
    "#student": false
   },
   "source": [
    "\\newpage"
   ]
  },
  {
   "cell_type": "markdown",
   "id": "28fc365b-33d1-4ce8-a0f2-1c55e8d1ea78",
   "metadata": {
    "#question": true,
    "#solution": false,
    "#staff": false,
    "#student": false,
    "tags": []
   },
   "source": [
    "## 7. Reading Test ##\n",
    "\n",
    "In 2017, the average reading score of the fourth graders in the United States was 222 points. In a simple random sample of 16,000 fourth graders taken nationally in 2019, the average reading score is 221 and the SD is 40 points. \n",
    "\n",
    "Is the national average reading score for fourth graders in 2019 different from what it was in 2017? Or is the observed difference just chance variation? Perform a test of hypotheses to answer the question, in the following steps.\n",
    "\n",
    "**a)** State an appropriate null hypothesis in non-technical terms and also as a set of assumptions about random variables.\n",
    "\n",
    "**b)** State an appropriate alternative hypothesis.\n",
    "\n",
    "**c)** What test statistic are you going to use? Justify your choice.\n",
    "\n",
    "**d)** Find a mathematical expression for an exact or approximate $p$-value, and then find its decimal value. You can use the code cell below.\n",
    "\n",
    "**e)** At the 5% level, what is the conclusion of the test? Why?"
   ]
  },
  {
   "cell_type": "code",
   "execution_count": null,
   "id": "dcf07ce9-7519-438a-ab14-9f38bf154bff",
   "metadata": {
    "#question": false,
    "#solution": false,
    "#staff": false,
    "#student": true
   },
   "outputs": [],
   "source": [
    "# For calculating the decimal value of your expression for the p-value in e.\n",
    "\n",
    "..."
   ]
  },
  {
   "cell_type": "markdown",
   "id": "eb46e494-180f-437e-ae2a-a6a5c7938567",
   "metadata": {
    "#question": false,
    "#solution": false,
    "#staff": false,
    "#student": false
   },
   "source": [
    "\\newpage"
   ]
  },
  {
   "cell_type": "markdown",
   "id": "241d05a1-2227-44d2-b542-fc6a3ab5a34a",
   "metadata": {
    "#question": true,
    "#solution": false,
    "#staff": false,
    "#student": false,
    "tags": []
   },
   "source": [
    "## 8. Probabilities with a Density ##\n",
    "\n",
    "Let $X$ have density given by\n",
    "\n",
    "$$\n",
    "f(x) ~ = ~ \n",
    "\\begin{cases}\n",
    "c(1-x^2) ~~~ -1 < x < 1 \\\\\n",
    "0 ~~~~~~~~~~~~~~ \\text{ otherwise.}\n",
    "\\end{cases}\n",
    "$$\n",
    "\n",
    "Here $c$ is a constant. \n",
    "\n",
    "**a)** Sketch (by hand) a graph of the density. It's a good idea to start by finding the values of $f$ at $x = \\pm 1$, $0$, and $\\pm 0.5$.\n",
    "\n",
    "Now find mathematical expressions for each of the following, and use a code cell if necessary to provide the decimal values as well.\n",
    "\n",
    "**b)** $c$\n",
    "\n",
    "**c)** the cdf of $X$\n",
    "\n",
    "**d)** $P(\\vert X \\vert > 0.5)$"
   ]
  },
  {
   "cell_type": "code",
   "execution_count": null,
   "id": "411af391-f848-495f-aff1-9a1b6bec2cbe",
   "metadata": {},
   "outputs": [],
   "source": [
    "# Calculations\n",
    "\n",
    "..."
   ]
  },
  {
   "cell_type": "markdown",
   "id": "86939398-b33b-49d3-b46c-0cc211f3ac58",
   "metadata": {
    "#question": false,
    "#solution": false,
    "#staff": false,
    "#student": true,
    "tags": []
   },
   "source": [
    "## Submission Instructions ##\n",
    "\n",
    "Please follow the directions below to properly submit both portions.\n",
    "\n",
    "### Written Work ###\n",
    "*  Scan all the pages into a PDF. You can use any scanner or a phone using applications such as CamScanner. Please **DO NOT** simply take pictures using your phone. \n",
    "* **Please start a new page for each question.** If you have already written multiple questions on the same page, you can crop the image in CamScanner or fold your page over (the old-fashioned way). This helps expedite grading.\n",
    "* It is your responsibility to check that all the work on all the scanned pages is legible.\n",
    "    \n",
    "### Submitting ###\n",
    "* Submit the assignment to Homework 5 on Gradescope. \n",
    "* **Make sure to assign each page of your pdf to the correct question.**\n",
    "* **It is your responsibility to verify that all of your work shows up in your final PDF submission.**\n",
    "\n",
    "If you have questions about scanning or uploading your work, please post a follow-up to the Ed thread on [Gradescope Assignment Submission](https://edstem.org/us/courses/40833/discussion/3214385).\n",
    "\n",
    "## **We will not grade assignments which do not have pages selected for each question.** ##"
   ]
  }
 ],
 "metadata": {
  "checksums": [
   "6a022d097f4bf8a378f8b543e3f2aacc",
   "d81c015fe17ef0f91b778d7089110778",
   "d9fa67e420ff6517bb279af341a3d241",
   "8035ddd1b8292a88be79e80b78b6378d",
   "a3e4b916a3a54030f2874fdc2e12cc19",
   "562505d567faf02dfc9388e81e89d07b",
   "96f1e8cd1609443e65cfa41768c9b8dc",
   "562505d567faf02dfc9388e81e89d07b",
   "1f318ab19cb216e6155673478e862f2b",
   "18cc6b77de87e81214113b7c93e60301",
   "562505d567faf02dfc9388e81e89d07b",
   "475bd6953b0223cc1e7064631d752104",
   "2e15565767dbd781b43a62201e3eaf4e",
   "5761d2a1aae03086a1dbae4633cec1bf",
   "562505d567faf02dfc9388e81e89d07b",
   "7a90950c485e8d3143e80f31a78dff34",
   "2e29deec30b502bac6483198514729be",
   "562505d567faf02dfc9388e81e89d07b",
   "cfadb9cc00af10d3f91c45888aab5fc2",
   "9634c5f339b34dad9857640ac8e6e046",
   "562505d567faf02dfc9388e81e89d07b",
   "798bf265b271100e4ddc0203ef8f50ff",
   "a3ecdb203b902d58e4fcf64e11a77b7c",
   "562505d567faf02dfc9388e81e89d07b",
   "9398cf1a7c2c5d28ecde53265863eda0",
   "e59dec0923dbf8070d8248928c09dc2f"
  ],
  "kernelspec": {
   "display_name": "Python 3",
   "language": "python",
   "name": "python3"
  },
  "language_info": {
   "codemirror_mode": {
    "name": "ipython",
    "version": 3
   },
   "file_extension": ".py",
   "mimetype": "text/x-python",
   "name": "python",
   "nbconvert_exporter": "python",
   "pygments_lexer": "ipython3",
   "version": "3.7.11"
  },
  "number_of_pagebreaks": 0
 },
 "nbformat": 4,
 "nbformat_minor": 5
}
