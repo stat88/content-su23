{
 "cells": [
  {
   "cell_type": "markdown",
   "metadata": {
    "#question": false,
    "#solution": false,
    "#staff": false,
    "#student": false
   },
   "source": [
    "<table align=\"left\" style=\"border-style: hidden\" class=\"table\"> <tr><td class=\"col-md-2\"><img style=\"float\" src=\"../logo.png\" alt=\"Data 88S Logo\" style=\"width: 120px;\"/></td><td><div align=\"left\"><h3 style=\"margin-top: 0;\">Probability for Data Science</h3><h4 style=\"margin-top: 20px;\">UC Berkeley, Summer 2023</h4><p>Shahzar & Salil</p>CC BY-NC 4.0</div></td></tr></table><!-- not in pdf -->\n",
    "\n",
    "This content is protected and may not be shared, uploaded, or distributed."
   ]
  },
  {
   "cell_type": "code",
   "execution_count": null,
   "metadata": {
    "#question": false,
    "#solution": false,
    "#staff": false,
    "#student": false
   },
   "outputs": [],
   "source": [
    "from datascience import *\n",
    "import numpy as np\n",
    "from scipy import stats"
   ]
  },
  {
   "cell_type": "markdown",
   "metadata": {
    "#question": false,
    "#solution": false,
    "#staff": false,
    "#student": false
   },
   "source": [
    "# Homework 3 #"
   ]
  },
  {
   "cell_type": "markdown",
   "metadata": {
    "#question": false,
    "#solution": false,
    "#staff": false,
    "#student": true
   },
   "source": [
    "### Instructions\n",
    "\n",
    "In all Data 88S homework, you will be providing written answers, not code. We encourage you to hand-write your answers. It is your responsibility to ensure that the homework is submitted completely and properly to Gradescope. **Make sure to assign each page of your pdf to the correct question. Refer to the bottom of the notebook for submission instructions.**\n",
    "\n",
    "Every answer should contain a calculation or reasoning. For example, a calculation such as $(1/3)(0.8) + (2/3)(0.7)$ is fine without further explanation or simplification. If we want you to simplify, we'll ask you to. But just ${5 \\choose 2}$ by itself is not fine; write \"we want any 2 out of the 5 frogs and they can appear in any order\" or whatever reasoning you used. Reasoning can be brief and abbreviated, e.g. \"product rule\" or \"not mutually exclusive.\"\n",
    "\n",
    "In some of the problems below, you will be provided a code cell that you can use for calculation. You do not need to use the code cell if you don't want to, but you should provide the requested decimal value in your submission. All the libraries you might need have been imported for you. Run the import cell at the top before you start the homework. "
   ]
  },
  {
   "cell_type": "markdown",
   "metadata": {
    "#question": true,
    "#solution": false,
    "#staff": false,
    "#student": false
   },
   "source": [
    "## 1. Car Watching ##\n",
    "\n",
    "Angela sips tea and watches cars go by at a cafe for an hour. Assume:\n",
    "\n",
    "- the number of US-made cars that go by $U$ has the Poisson $(10)$ distribution\n",
    "- the number of German-made cars that go by $G$ has the Poisson $(2)$ distribution\n",
    "- the number of all other cars that go by $X$ has the Poisson $(6)$ distribution\n",
    "\n",
    "Assume also that $U$, $G$, and $X$ are independent of each other, and let the total number of cars be $T = U + G + X$.\n",
    "\n",
    "**a)** Find a math expression for $P(U \\ge 5, G \\ge 5)$ which does not have any infinite sums. Then find its decimal value. You can use the code cell below.\n",
    "\n",
    "**b)** Find a math expression for $P(G = X)$. You may leave your answer as an infinite sum.\n",
    "\n",
    "**c)** Find a math expression for $P(T = 16)$. Then find its decimal value. You can use the code cell below."
   ]
  },
  {
   "cell_type": "code",
   "execution_count": null,
   "metadata": {
    "#question": false,
    "#solution": false,
    "#staff": false,
    "#student": true
   },
   "outputs": [],
   "source": [
    "# Calculations\n",
    "\n",
    "..."
   ]
  },
  {
   "cell_type": "markdown",
   "metadata": {
    "#question": false,
    "#solution": false,
    "#staff": false,
    "#student": false
   },
   "source": [
    "\\newpage"
   ]
  },
  {
   "cell_type": "markdown",
   "metadata": {
    "#question": true,
    "#solution": false,
    "#staff": false,
    "#student": false
   },
   "source": [
    "## 2. Typos\n",
    "\n",
    "A book has $4n$ words in it. Each word has a typo with chance $\\frac{1}{n}$, independent of all other words in the book. Let $T$ be the number of typos in the book. \n",
    "\n",
    "**a)** Fill in the blanks below with the name of a famous distribution and the appropriate parameters. Now and forever: \"parameters\" also includes the case where there is only one parameter. **Explain your answers.**\n",
    "\n",
    "The distribution of $T$ is $\\underline{~~~~~~~~~~~~~~~~~~~~~~~~~~~~~~~}$. When $n$ is large, this is well approximated by the $\\underline{~~~~~~~~~~~~~~~~~~~~~~~~~~~~~~~}$ distribution.\n",
    "\n",
    "**b)** For large $n$, write a math expression that approximates $P(T \\leq 5)$. Then find its decimal value. You can use the code cell below."
   ]
  },
  {
   "cell_type": "code",
   "execution_count": null,
   "metadata": {
    "#question": false,
    "#solution": false,
    "#staff": false,
    "#student": true
   },
   "outputs": [],
   "source": [
    "# Calculation for b\n",
    "\n",
    "..."
   ]
  },
  {
   "cell_type": "markdown",
   "metadata": {
    "#question": false,
    "#solution": false,
    "#staff": false,
    "#student": false
   },
   "source": [
    "\\newpage"
   ]
  },
  {
   "cell_type": "markdown",
   "metadata": {
    "#question": true,
    "#solution": false,
    "#staff": false,
    "#student": false
   },
   "source": [
    "## 3. Quick Expectations\n",
    "\n",
    "In each part below, provide the decimal value of the expectation (you can use the code cell below) and explain your answer.\n",
    "\n",
    "**a)** In Question 2 of Homework 2, you found the distribution of the number of times a tetrahedron is rolled till a face reappears. The random variable was called $D$. Go back and look at that exercise and then find $E(D)$.\n",
    "\n",
    "**b)** For $D$ as in Part **a**, let $M$ be the minimum of $D$ and 3. For example, if $D = 5$ then $M = 3$. If $D = 2$ then $M = 2$. If $D = 3$ then $M = 3$. Find $E(M)$.\n",
    "\n",
    "**c)** I have a coin that lands heads with chance $\\frac{1}{4}$. I toss the coin $200$ times. My friend tosses a fair coin $500$ times. Find the expectation of the total number of heads in the $700$ tosses.\n",
    "\n",
    "**d)** A population of 1500 birds contains 300 loons. Find the expected number of loons in a simple random sample of 15 birds taken from the population.\n",
    "\n",
    "**e)** In City A, the number of traffic accidents on a given day has the Poisson $(4.8)$ distribution. Independently, the number of traffic accidents on that day in City B has the Poisson $(6.1)$ distribution. Let $X$ be the total number of traffic accidents on that day in the two cities. Find $E(X)$."
   ]
  },
  {
   "cell_type": "code",
   "execution_count": null,
   "metadata": {
    "#question": false,
    "#solution": false,
    "#staff": false,
    "#student": true
   },
   "outputs": [],
   "source": [
    "# Calculations\n",
    "\n",
    "..."
   ]
  },
  {
   "cell_type": "markdown",
   "metadata": {
    "#question": false,
    "#solution": false,
    "#staff": false,
    "#student": false
   },
   "source": [
    "\\newpage"
   ]
  },
  {
   "cell_type": "markdown",
   "metadata": {
    "#question": true,
    "#solution": false,
    "#staff": false,
    "#student": false
   },
   "source": [
    "## 4. Popsicle Picking ##\n",
    "\n",
    "An ice cream truck has five different flavors of popsicles. Suppose $n$ customers each pick a flavor at random, independently of the choices of others. In each part below, find the expectation of the described random variable.\n",
    "\n",
    "**a)** the number of flavors that are not picked\n",
    "\n",
    "**b)** the number of flavors that are picked\n",
    "\n",
    "**c)** the number of flavors that are picked by more than one customer"
   ]
  },
  {
   "cell_type": "markdown",
   "metadata": {
    "#question": false,
    "#solution": false,
    "#staff": false,
    "#student": false
   },
   "source": [
    "\\newpage"
   ]
  },
  {
   "cell_type": "markdown",
   "metadata": {
    "#question": true,
    "#solution": false,
    "#staff": false,
    "#student": false
   },
   "source": [
    "## 5. Bowl of Stickers\n",
    "\n",
    "A bowl contains 100 stickers, 88 of which are Data 88S stickers. Shahzar grabs a simple random sample of 20 stickers from the bowl. After Shahzar grabs his stickers, Salil grabs a simple random sample of 10 stickers from the bowl.\n",
    "\n",
    "**a)** Find the expected number of Data 88S stickers in Shahzar's stickers. Explain your answer.\n",
    "\n",
    "**b)** Find the expected number of Data 88S stickers in Salil's stickers. Explain your answer.\n",
    "\n",
    "**c)** Find the expected number of Data 88S stickers left in the bowl. Explain your answer."
   ]
  },
  {
   "cell_type": "markdown",
   "metadata": {
    "#question": false,
    "#solution": false,
    "#staff": false,
    "#student": false
   },
   "source": [
    "\\newpage"
   ]
  },
  {
   "cell_type": "markdown",
   "metadata": {
    "#question": true,
    "#solution": false,
    "#staff": false,
    "#student": false
   },
   "source": [
    "## 6. Randomized Response ##\n",
    "Survey respondents understandably don't like to answer questions about sensitive topics such as illegal drug use. If data scientists want to estimate the proportion of illegal drug users in a population, they have to devise methods of getting the information they need while maintaining the privacy of the individual respondents.\n",
    "\n",
    "*Randomized response* schemes are often used in such situations. In one such scheme, each surveyed person is given a coin and asked to answer YES or NO after following these instructions out of sight of the surveyor:\n",
    "\n",
    "- Toss the coin.\n",
    "    - If it lands heads, then truthfully answer, \"Do you use illegal drugs?\"\n",
    "    - If it lands tails, then toss it again and answer, \"Did the second toss land heads?\"\n",
    "\n",
    "This way each respondent answers YES or NO but the surveyor doesn't know which question was answered. The data scientists then have to estimate the proportion of illegal drug users based on the overall proportion of YES answers, which includes the YES answers to the second question.\n",
    "\n",
    "Let the unknown proportion of illegal drug users in a large population be $p$, and suppose a random sample of size $n$ is surveyed using the scheme above. You can assume that the sampling is equivalent to drawing at random with replacement.\n",
    "\n",
    "**a)** Let $X$ be the proportion of sampled people who answer YES. Find $E(X)$.\n",
    "\n",
    "**b)** Use $X$ to construct an unbiased estimator of $p$.\n",
    "\n",
    "**c)** Suppose $n = 10$ and the results of the randomized response survey are as follows:\n",
    "\n",
    "$$\\text{NO} \\qquad \\text{YES} \\qquad \\text{NO} \\qquad \\text{NO} \\qquad \\text{NO} \\qquad \\text{NO} \\qquad \\text{YES} \\qquad \\text{NO} \\qquad \\text{YES} \\qquad \\text{NO}.$$\n",
    "\n",
    "Calculate the value of your unbiased estimator of $p$ for this sample."
   ]
  },
  {
   "cell_type": "code",
   "execution_count": null,
   "metadata": {
    "#question": false,
    "#solution": false,
    "#staff": false,
    "#student": true
   },
   "outputs": [],
   "source": [
    "# Calculation for c\n",
    "\n",
    "..."
   ]
  },
  {
   "cell_type": "markdown",
   "metadata": {
    "#question": false,
    "#solution": false,
    "#staff": false,
    "#student": false
   },
   "source": [
    "\\newpage"
   ]
  },
  {
   "cell_type": "markdown",
   "metadata": {
    "#question": true,
    "#solution": false,
    "#staff": false,
    "#student": false
   },
   "source": [
    "## 7. Fish Pond\n",
    "\n",
    "A large pond contains $f$ fish, of which $k$ are koi fish. A biologist takes a simple random sample of $n$ fish from the pond.\n",
    "\n",
    "**a)** Let $X$ be the number of koi fish in the biologist's sample. Find $E(X)$. \n",
    "\n",
    "**b)** Use $X$ to construct an unbiased estimator of $k$ in terms of $f$ and $n$.\n",
    "\n",
    "**c)** Suppose $f = 153$, $n = 24$, and the biologist observes $5$ koi fish in the sample. Calculate the value of the unbiased estimator of $k$ for this sample."
   ]
  },
  {
   "cell_type": "code",
   "execution_count": null,
   "metadata": {
    "#question": false,
    "#solution": false,
    "#staff": false,
    "#student": true
   },
   "outputs": [],
   "source": [
    "# Calculation for c\n",
    "\n",
    "..."
   ]
  },
  {
   "cell_type": "markdown",
   "metadata": {
    "#question": false,
    "#solution": false,
    "#staff": false,
    "#student": true
   },
   "source": [
    "## Submission Instructions ##\n",
    "\n",
    "Please follow the directions below to properly submit both portions.\n",
    "\n",
    "### Written Work ###\n",
    "*  Scan all the pages into a PDF. You can use any scanner or a phone using applications such as CamScanner. Please **DO NOT** simply take pictures using your phone. \n",
    "* **Please start a new page for each question.** If you have already written multiple questions on the same page, you can crop the image in CamScanner or fold your page over (the old-fashioned way). This helps expedite grading.\n",
    "* It is your responsibility to check that all the work on all the scanned pages is legible.\n",
    "    \n",
    "### Submitting ###\n",
    "* Submit the assignment to Homework 3 on Gradescope. \n",
    "* **Make sure to assign each page of your pdf to the correct question.**\n",
    "* **It is your responsibility to verify that all of your work shows up in your final PDF submission.**\n",
    "\n",
    "If you have questions about scanning or uploading your work, please post a follow-up to the Ed thread on [Gradescope Assignment Submission](https://edstem.org/us/courses/40833/discussion/3214385).\n",
    "\n",
    "## **We will not grade assignments which do not have pages selected for each question.** ##"
   ]
  }
 ],
 "metadata": {
  "checksums": [
   "6a022d097f4bf8a378f8b543e3f2aacc",
   "d81c015fe17ef0f91b778d7089110778",
   "ca466c40003089a428b668a82180c6c6",
   "79ef6bfe279fd7b693d536c8ec78795f",
   "b282df39df19e84ca118f47a56fe5c5c",
   "2e29deec30b502bac6483198514729be",
   "562505d567faf02dfc9388e81e89d07b",
   "0eea8a6d5909b289af11f948711362dc",
   "edc2a654819ca63a1772108f8016f75e",
   "562505d567faf02dfc9388e81e89d07b",
   "c4e12082db9489fb401f2a795f2af89b",
   "2e29deec30b502bac6483198514729be",
   "562505d567faf02dfc9388e81e89d07b",
   "f47cbbc50f50eb5687382f26a90810b4",
   "562505d567faf02dfc9388e81e89d07b",
   "e22927f2e9211791be657fb0f279faa8",
   "562505d567faf02dfc9388e81e89d07b",
   "78dc33dd336acaf9336013eb6627f35d",
   "95ee4f9101c3fde3bcfac91a3def6ddf",
   "562505d567faf02dfc9388e81e89d07b",
   "4cb2b56ec4077ca716942f7b921d2754",
   "95ee4f9101c3fde3bcfac91a3def6ddf",
   "c158b8815669d0c2778487752fb92970"
  ],
  "kernelspec": {
   "display_name": "Python 3",
   "language": "python",
   "name": "python3"
  },
  "language_info": {
   "codemirror_mode": {
    "name": "ipython",
    "version": 3
   },
   "file_extension": ".py",
   "mimetype": "text/x-python",
   "name": "python",
   "nbconvert_exporter": "python",
   "pygments_lexer": "ipython3",
   "version": "3.7.11"
  },
  "number_of_pagebreaks": 0
 },
 "nbformat": 4,
 "nbformat_minor": 4
}
