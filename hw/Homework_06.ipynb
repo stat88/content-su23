{
 "cells": [
  {
   "cell_type": "markdown",
   "id": "aa2ba279-d3e7-44e6-bfa6-f4267e456af6",
   "metadata": {
    "#question": false,
    "#solution": false,
    "#staff": false,
    "#student": false
   },
   "source": [
    "<table align=\"left\" style=\"border-style: hidden\" class=\"table\"> <tr><td class=\"col-md-2\"><img style=\"float\" src=\"../logo.png\" alt=\"Data 88S Logo\" style=\"width: 120px;\"/></td><td><div align=\"left\"><h3 style=\"margin-top: 0;\">Probability for Data Science</h3><h4 style=\"margin-top: 20px;\">UC Berkeley, Summer 2023</h4><p>Shahzar & Salil</p>CC BY-NC 4.0</div></td></tr></table><!-- not in pdf -->\n",
    "\n",
    "This content is protected and may not be shared, uploaded, or distributed."
   ]
  },
  {
   "cell_type": "code",
   "execution_count": null,
   "id": "bbe91c42",
   "metadata": {
    "#question": false,
    "#solution": false,
    "#staff": false,
    "#student": false
   },
   "outputs": [],
   "source": [
    "from datascience import *\n",
    "import numpy as np\n",
    "from scipy import stats"
   ]
  },
  {
   "cell_type": "markdown",
   "id": "962f6f62-fa8e-4e4d-be02-ef503e919c44",
   "metadata": {
    "#question": false,
    "#solution": false,
    "#staff": false,
    "#student": false
   },
   "source": [
    "# Homework 6"
   ]
  },
  {
   "cell_type": "markdown",
   "id": "9ad46a43-0986-48b1-b7e0-a763b6e546e7",
   "metadata": {
    "#question": false,
    "#solution": false,
    "#staff": false,
    "#student": true,
    "tags": []
   },
   "source": [
    "### Instructions\n",
    "\n",
    "In all Data 88S homework, you will be providing written answers, not code. We encourage you to hand-write your answers. It is your responsibility to ensure that the homework is submitted completely and properly to Gradescope. **Make sure to assign each page of your pdf to the correct question. Refer to the bottom of the notebook for submission instructions.**\n",
    "\n",
    "Every answer should contain a calculation or reasoning. For example, a calculation such as $(1/3)(0.8) + (2/3)(0.7)$ is fine without further explanation or simplification. If we want you to simplify, we'll ask you to. But just ${5 \\choose 2}$ by itself is not fine; write \"we want any 2 out of the 5 frogs and they can appear in any order\" or whatever reasoning you used. Reasoning can be brief and abbreviated, e.g. \"product rule\" or \"not mutually exclusive.\"\n",
    "\n",
    "In some of the problems below, you will be provided a code cell that you can use for calculation. You do not need to use the code cell if you don't want to, but you should provide the requested decimal value in your submission. All the libraries you might need have been imported for you. Run the import cell at the top before you start the homework. "
   ]
  },
  {
   "cell_type": "markdown",
   "id": "4ab577c6",
   "metadata": {
    "#question": true,
    "#solution": false,
    "#staff": false,
    "#student": false
   },
   "source": [
    "## 0. A Midsummer Night's Survey\n",
    "\n",
    "Please fill out [the midsemester survey](https://forms.gle/E6KrZMcxd8RPUprc6) to provide feedback on how the class is going so far. The form is anonymous and its responses will be used to improve the rest of the course this summer as well as future iterations of the course."
   ]
  },
  {
   "cell_type": "markdown",
   "id": "1bd32111",
   "metadata": {
    "#question": true,
    "#solution": false,
    "#staff": false,
    "#student": false
   },
   "source": [
    "## 1. Pareto Densities ##\n",
    "\n",
    "For fixed $\\alpha > 2$, a random variable $T$ has the *Pareto* distribution with shape parameter $\\alpha$ and possible values $(1, \\infty)$ if the density of $T$ is given by\n",
    "\n",
    "$$f_T(t) = \\begin{cases} 0 & t \\le 1\\\\ ct^{-(\\alpha + 1)} & t > 1.\\end{cases}$$\n",
    "\n",
    "Pareto distributions occur frequently in economics when large values occur somewhat infrequently and small values occur more frequently. For example, Pareto distributions are often used in modeling distributions of wealth or income. \n",
    "\n",
    "**a)** Find $c$.\n",
    "\n",
    "**b)** Find the cdf of $T$.\n",
    "\n",
    "**c)** Find $E(T)$.\n",
    "\n",
    "**d)** Find $Var(T)$."
   ]
  },
  {
   "cell_type": "markdown",
   "id": "95394dcf",
   "metadata": {
    "#question": false,
    "#solution": false,
    "#staff": false,
    "#student": false
   },
   "source": [
    "\\newpage"
   ]
  },
  {
   "cell_type": "markdown",
   "id": "e50ad7b4",
   "metadata": {
    "#question": true,
    "#solution": false,
    "#staff": false,
    "#student": false,
    "tags": []
   },
   "source": [
    "## 2. Art Project\n",
    "\n",
    "Sarah buys 20 cubes of wood for an abstract art project. The side lengths of the cubes in centimeters, $S_1, \\ldots, S_{20}$, are i.i.d. with density \n",
    "\n",
    "$$ f(s) = \\begin{cases} 3s^2 & 0 < s \\leq 1 \\\\ 0 & \\text{otherwise.} \\end{cases}$$\n",
    "\n",
    "**a)** Find the chance that at least one of the twenty cubes has a volume of at least $\\frac{1}{8}$ cm³.\n",
    "\n",
    "**b)** Find the expected number of cubes with a volume between $\\frac{1}{27}$ cm³ and $\\frac{1}{8}$ cm³.\n",
    "\n",
    "**c)** Find the expected volume of the last cube."
   ]
  },
  {
   "cell_type": "markdown",
   "id": "9c548083",
   "metadata": {
    "#question": false,
    "#solution": false,
    "#staff": false,
    "#student": false
   },
   "source": [
    "\\newpage"
   ]
  },
  {
   "cell_type": "markdown",
   "id": "257e81ed",
   "metadata": {
    "#question": true,
    "#solution": false,
    "#staff": false,
    "#student": false
   },
   "source": [
    "\n",
    "## 3. Concert Tickets\n",
    "\n",
    "Taylor Swift sold tickets for her Eras tour through the ticketing service Ticketmaster. When the sale for tickets opened, fans [found extremely long queue times, queues that randomly kicked them off, and many other issues](https://www.cnn.com/2023/03/27/media/taylor-swift-ticketmaster-court/index.html). In this question, we will model the amount of time a fan has to wait on the queue for a ticket as an exponential random variable.\n",
    "\n",
    "Suppose that the amount of time Sherin spends on the queue before buying a ticket to the Eras tour follows an exponential distribution with a mean of 4 hours.\n",
    "\n",
    "**a)** Find the chance that Sherin gets off the queue within an hour.\n",
    "\n",
    "**b)** Find the chance that it takes Sherin longer than 6 hours to get off the queue given that she is still on the queue after 4 hours. \n",
    "\n",
    "**c)** Fill in the blank with a number and briefly explain your answer:\n",
    "\n",
    "There is a 50% chance that Sherin gets off the queue in less than __________ hours.\n",
    "\n",
    "**d)** Let $T$ be the time Sherin spends on the queue measured in hours. Now let $W$ be the same time $T$ measured in minutes. Write down the relationship between $T$ and $W$ and use it to find $P(W \\leq w \\text{ minutes })$ for $w > 0$.\n",
    "\n",
    "**e)** Identify the distribution of $W$ as one of the famous ones, and provide its name and parameter(s)."
   ]
  },
  {
   "cell_type": "markdown",
   "id": "974a212a",
   "metadata": {
    "#question": false,
    "#solution": false,
    "#staff": false,
    "#student": false
   },
   "source": [
    "\\newpage"
   ]
  },
  {
   "cell_type": "markdown",
   "id": "0a84e8c6",
   "metadata": {
    "#question": true,
    "#solution": false,
    "#staff": false,
    "#student": false
   },
   "source": [
    "\n",
    "## 4. Exponential Minima\n",
    "\n",
    "Ryan and Ralph are competing against each other in a model bridge building contest. Large weights are attached to each bridge and the first bridge to collapse is the loser of the contest. \n",
    "\n",
    "Let $X$ be the amount of time Ryan's bridge lasts before collapsing, and suppose it is exponentially distributed with mean 6 minutes. Let $Y$ be the amount of time Ralph's bridge lasts before collapsing, and suppose it is exponentially distributed with mean 5 minutes, independent of $X$.\n",
    "\n",
    "Let $T = \\min(X, Y)$ be the minimum of the two times. That is, $T$ is the amount of time until the first collapse.\n",
    "\n",
    "**a)** For any $t > 0$, find $P(T > t)$.\n",
    "\n",
    "[Hint: If the minimum has to be bigger than $t$, what does that tell you about each of $X$ and $Y$?]\n",
    "\n",
    "**b)** Use part **a)** to identify the distribution of $T$ as one of the famous ones. As usual, this means you must provide its name and parameter(s).\n",
    "\n",
    "**c)** Find $E(T)$ and $SD(T)$."
   ]
  },
  {
   "cell_type": "markdown",
   "id": "34016f82-763d-40dd-926e-414b483f0402",
   "metadata": {
    "#question": false,
    "#solution": false,
    "#staff": false,
    "#student": false
   },
   "source": [
    "\\newpage"
   ]
  },
  {
   "cell_type": "markdown",
   "id": "0018dcf3",
   "metadata": {
    "#question": true,
    "#solution": false,
    "#staff": false,
    "#student": false,
    "tags": []
   },
   "source": [
    "\n",
    "## 5. Normal Heights\n",
    "\n",
    "The heights of men in a population are normally distributed. Suppose that the 99th percentile of heights is 75 inches and the 50th percentile of heights is 68 inches.\n",
    "\n",
    "Let $X_1, \\ldots, X_{10}$ be the heights of an i.i.d. sample of ten men from the population.\n",
    "\n",
    "**a)** Find the distribution of $X_1$. You can use the code cell below for any calculations\n",
    "\n",
    "**b)** Find $P(|X_1 - 72| \\ge 4)$.\n",
    "\n",
    "**c)** Fill in the blank with a number: $P(|X_1 - 68| > c) = 0.15$. You can use the code cell below for calculation.\n",
    "\n",
    "**d)** Let $\\bar{X}$ be the sample average. If possible, find the distribution of $\\bar{X}$. If it is not possible to find the exact distribution, approximate it. If it is not even possible to approximate it, explain why not."
   ]
  },
  {
   "cell_type": "code",
   "execution_count": null,
   "id": "5d611b4d-5a4a-4a16-90f6-5f821adad2d3",
   "metadata": {
    "#question": false,
    "#solution": false,
    "#staff": false,
    "#student": true
   },
   "outputs": [],
   "source": [
    "# Calculations for a\n",
    "\n",
    "..."
   ]
  },
  {
   "cell_type": "code",
   "execution_count": null,
   "id": "5fff3019-37c5-4a5c-8087-1d2a548cad76",
   "metadata": {
    "#question": false,
    "#solution": false,
    "#staff": false,
    "#student": true
   },
   "outputs": [],
   "source": [
    "# Calculations for c\n",
    "\n",
    "..."
   ]
  },
  {
   "cell_type": "markdown",
   "id": "2e41f46c-2a63-4ccf-a1f2-dc9341ea040c",
   "metadata": {
    "#question": false,
    "#solution": false,
    "#staff": false,
    "#student": false
   },
   "source": [
    "\\newpage"
   ]
  },
  {
   "cell_type": "markdown",
   "id": "4b7cff37-9b21-4572-9855-76dd6959ac85",
   "metadata": {
    "#question": true,
    "#solution": false,
    "#staff": false,
    "#student": false,
    "tags": []
   },
   "source": [
    "## 6. College Graduates in Seattle and SF ##\n",
    "\n",
    "In a simple random sample of 400 people taken in Seattle, 63% are college graduates. In an independent simple random sample of 600 people taken in San Francisco, 55% are college graduates.\n",
    "\n",
    "**a)** Is the proportion of college graduates different in the two cities, or is this just chance variation? Answer by performing a test of hypotheses at the 5% level. Your answer should include a null hypothesis in terms of random variables, an appropriate alternative hypothesis, a test statistic, a $p$-value, and a conclusion, along with justifications for all of these.\n",
    "\n",
    "For getting the numeric value of the $p$-value and other calculations, you can use the code cell below.\n",
    "\n",
    "**b)** Construct an approximate 95% confidence interval for the difference between the percents of college graduates in Seattle and San Francisco (where the difference is defined as the percent in Seattle minus the percent in San Francisco).\n"
   ]
  },
  {
   "cell_type": "code",
   "execution_count": null,
   "id": "fadc2c84-c910-494a-83ac-087449d988c8",
   "metadata": {
    "#question": false,
    "#solution": false,
    "#staff": false,
    "#student": true
   },
   "outputs": [],
   "source": [
    "# Calculations for a\n",
    "\n",
    "..."
   ]
  },
  {
   "cell_type": "code",
   "execution_count": null,
   "id": "04cb6fe7-82e7-4355-83ae-79bccda0c403",
   "metadata": {
    "#question": false,
    "#solution": false,
    "#staff": false,
    "#student": true
   },
   "outputs": [],
   "source": [
    "# Calculations for b\n",
    "\n",
    "..."
   ]
  },
  {
   "cell_type": "markdown",
   "id": "bb17c121-25b7-497d-99ba-ebfc1c5a4bb7",
   "metadata": {
    "#question": false,
    "#solution": false,
    "#staff": false,
    "#student": false
   },
   "source": [
    "\\newpage"
   ]
  },
  {
   "cell_type": "markdown",
   "id": "ddccdb90-f7fd-4a0f-adda-f61813d1b852",
   "metadata": {
    "#question": false,
    "#solution": false,
    "#staff": false,
    "#student": false
   },
   "source": [
    "## 7. Size of Error, Part I ##\n",
    "\n",
    "Data scientists often have to estimate the size of a random error. A simple model for a random error is that it is distributed uniformly on the interval $(-\\theta, \\theta)$ for some constant $\\theta > 0$.\n",
    "\n",
    "If $\\theta$ is unknown, data scientists might have to estimate it. Suppose they have just one data point $Y$ distributed uniformly on $(-\\theta, \\theta)$. Let's see how they can use it to estimate $\\theta$.\n",
    "\n",
    "**a)** The first step is to simplify the problem. Let $X = \\vert Y \\vert$. What are the possible values of $X$? For each possible value $x$, find $P(X > x)$. Identify the distribution of $X$ as one of the famous ones, and provide its name and parameters.\n",
    "\n",
    "**b)** To estimate $\\theta$, suppose the data scientists use the estimator $T_1 = X$. Find the bias of $T_1$ and also the variance of $T_1$.\n",
    "\n",
    "**c)** Use $T_1$ to construct an unbiased estimator of $\\theta$. Call this new estimator $T_2$. The good news is that it is unbiased by your construction. Now find $Var(T_2)$ and compare it with $Var(T_1)$ in Part **b**."
   ]
  },
  {
   "cell_type": "markdown",
   "id": "74180206-39d2-4292-b30f-35cffecce0d3",
   "metadata": {},
   "source": [
    "\\newpage"
   ]
  },
  {
   "cell_type": "markdown",
   "id": "b2dc6384-634e-4452-abda-c831584bb230",
   "metadata": {
    "#question": false,
    "#solution": false,
    "#staff": false,
    "#student": false
   },
   "source": [
    "## 8. Size of Error, Part II ##\n",
    "\n",
    "Now let $X_1, X_2, \\ldots, X_n$ be i.i.d. uniform on $(0, \\theta)$. As in the previous exercise, the goal is to use the data to estimate $\\theta$.\n",
    "\n",
    "**a)** Let $\\bar{X}$ be the sample mean. Use $\\bar{X}$ to construct an unbiased estimator $T$ of the parameter $\\theta$, and find $Var_\\theta(T)$.\n",
    "\n",
    "**b)** Let $M = \\max(X_1, X_2, \\ldots, X_n)$. Find $E_\\theta(M)$ by finding first the cdf, then the density, and then the expectation.\n",
    "\n",
    "**c)** Explain your answer for $E_\\theta(M)$ by a symmetry argument. \n",
    "\n",
    "[Draw the interval $(0, \\theta)$. Take $n = 3$ or some other small integer, and throw down $n$ points on the interval. Stare at the gaps created. How many are there? How many between $0$ and $M$?]\n",
    "\n",
    "**d)** Find the bias of $M$ and say what happens to the bias as the sample size gets large.\n",
    "\n",
    "**e)** Find $Var(M)$. You'll need to use the density you find in Part **b)**.\n",
    "\n",
    "**f)** If the sample is large, which of the two estimators $M$ and $T$ would you rather use, and why? Make a strong case for your choice. You are welcome to support your answer by algebra/calculus or numerical computation. "
   ]
  },
  {
   "cell_type": "markdown",
   "id": "86939398-b33b-49d3-b46c-0cc211f3ac58",
   "metadata": {
    "#question": false,
    "#solution": false,
    "#staff": false,
    "#student": true,
    "tags": []
   },
   "source": [
    "## Submission Instructions ##\n",
    "\n",
    "Please follow the directions below to properly submit both portions.\n",
    "\n",
    "### Written Work ###\n",
    "*  Scan all the pages into a PDF. You can use any scanner or a phone using applications such as CamScanner. Please **DO NOT** simply take pictures using your phone. \n",
    "* **Please start a new page for each question.** If you have already written multiple questions on the same page, you can crop the image in CamScanner or fold your page over (the old-fashioned way). This helps expedite grading.\n",
    "* It is your responsibility to check that all the work on all the scanned pages is legible.\n",
    "    \n",
    "### Submitting ###\n",
    "* Submit the assignment to Homework 6 on Gradescope. \n",
    "* **Make sure to assign each page of your pdf to the correct question.**\n",
    "* **It is your responsibility to verify that all of your work shows up in your final PDF submission.**\n",
    "\n",
    "If you have questions about scanning or uploading your work, please post a follow-up to the Ed thread on [Gradescope Assignment Submission](https://edstem.org/us/courses/40833/discussion/3214385).\n",
    "\n",
    "## **We will not grade assignments which do not have pages selected for each question.** ##"
   ]
  }
 ],
 "metadata": {
  "checksums": [
   "6a022d097f4bf8a378f8b543e3f2aacc",
   "d81c015fe17ef0f91b778d7089110778",
   "23e47032618121765ce6ff9147605e9e",
   "8035ddd1b8292a88be79e80b78b6378d",
   "ce01ab57821237683d6126a44106784b",
   "8bc3243a070d7170989e9d2b95ef2f41",
   "562505d567faf02dfc9388e81e89d07b",
   "81c1d9a407c0e7fb0d9c70c516e7ddda",
   "562505d567faf02dfc9388e81e89d07b",
   "78fcde2961abc32bada14336d64ecf4d",
   "562505d567faf02dfc9388e81e89d07b",
   "2f375508eb2d28f27691d16ba92252f5",
   "562505d567faf02dfc9388e81e89d07b",
   "defd60e5aaeb32bdedbdc1a8f4f78eff",
   "2e15565767dbd781b43a62201e3eaf4e",
   "5761d2a1aae03086a1dbae4633cec1bf",
   "562505d567faf02dfc9388e81e89d07b",
   "54fec060184ddc8ab49faa25aa7ff305",
   "2e15565767dbd781b43a62201e3eaf4e",
   "5761d2a1aae03086a1dbae4633cec1bf",
   "562505d567faf02dfc9388e81e89d07b",
   "71e7a5e2f19e7852da6ad3367460ebc0",
   "9fb9de9a75d0a7244cce7e7408e7ee39",
   "afaa7128228c17249ee01394c640bf05"
  ],
  "kernelspec": {
   "display_name": "Python 3",
   "language": "python",
   "name": "python3"
  },
  "language_info": {
   "codemirror_mode": {
    "name": "ipython",
    "version": 3
   },
   "file_extension": ".py",
   "mimetype": "text/x-python",
   "name": "python",
   "nbconvert_exporter": "python",
   "pygments_lexer": "ipython3",
   "version": "3.7.11"
  },
  "number_of_pagebreaks": 0
 },
 "nbformat": 4,
 "nbformat_minor": 5
}
