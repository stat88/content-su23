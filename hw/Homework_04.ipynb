{
 "cells": [
  {
   "cell_type": "markdown",
   "id": "aa2ba279-d3e7-44e6-bfa6-f4267e456af6",
   "metadata": {
    "#question": false,
    "#solution": false,
    "#staff": false,
    "#student": false
   },
   "source": [
    "<table align=\"left\" style=\"border-style: hidden\" class=\"table\"> <tr><td class=\"col-md-2\"><img style=\"float\" src=\"../logo.png\" alt=\"Data 88S Logo\" style=\"width: 120px;\"/></td><td><div align=\"left\"><h3 style=\"margin-top: 0;\">Probability for Data Science</h3><h4 style=\"margin-top: 20px;\">UC Berkeley, Summer 2023</h4><p>Shahzar & Salil</p>CC BY-NC 4.0</div></td></tr></table><!-- not in pdf -->\n",
    "\n",
    "This content is protected and may not be shared, uploaded, or distributed."
   ]
  },
  {
   "cell_type": "code",
   "execution_count": null,
   "id": "bbe91c42",
   "metadata": {
    "#question": false,
    "#solution": false,
    "#staff": false,
    "#student": false
   },
   "outputs": [],
   "source": [
    "from datascience import *\n",
    "import numpy as np\n",
    "from scipy import stats"
   ]
  },
  {
   "cell_type": "markdown",
   "id": "962f6f62-fa8e-4e4d-be02-ef503e919c44",
   "metadata": {
    "#question": false,
    "#solution": false,
    "#staff": false,
    "#student": false
   },
   "source": [
    "# Homework 4"
   ]
  },
  {
   "cell_type": "markdown",
   "id": "9ad46a43-0986-48b1-b7e0-a763b6e546e7",
   "metadata": {
    "#question": false,
    "#solution": false,
    "#staff": false,
    "#student": true,
    "tags": []
   },
   "source": [
    "### Instructions\n",
    "\n",
    "In all Data 88S homework, you will be providing written answers, not code. We encourage you to hand-write your answers. It is your responsibility to ensure that the homework is submitted completely and properly to Gradescope. **Make sure to assign each page of your pdf to the correct question. Refer to the bottom of the notebook for submission instructions.**\n",
    "\n",
    "Every answer should contain a calculation or reasoning. For example, a calculation such as $(1/3)(0.8) + (2/3)(0.7)$ is fine without further explanation or simplification. If we want you to simplify, we'll ask you to. But just ${5 \\choose 2}$ by itself is not fine; write \"we want any 2 out of the 5 frogs and they can appear in any order\" or whatever reasoning you used. Reasoning can be brief and abbreviated, e.g. \"product rule\" or \"not mutually exclusive.\"\n",
    "\n",
    "In some of the problems below, you will be provided a code cell that you can use for calculation. You do not need to use the code cell if you don't want to, but you should provide the requested decimal value in your submission. All the libraries you might need have been imported for you. Run the import cell at the top before you start the homework. "
   ]
  },
  {
   "cell_type": "markdown",
   "id": "254c7a2c-f686-47ef-8f64-03813fe676d9",
   "metadata": {
    "#question": true,
    "#solution": false,
    "#staff": false,
    "#student": false
   },
   "source": [
    "## 1. BARTing to San Francisco ##\n",
    "\n",
    "Cynthia needs to go to San Francisco, and needs to decide whether to take the 5am BART or the 7pm BART from Downtown Berkeley. She will take the 5am BART with chance 70% and the 7pm BART with the remaining chance.\n",
    "\n",
    "If she goes at 5am, the [number of people](https://www.bart.gov/sites/default/files/docs/072621_Richmond_to_Millbrae.pdf) in one carriage of the BART train will have the uniform distribution on $\\{4, 5, 6, 7, 8\\}$. If she goes at 7pm, it will have the Poisson $(4)$ distribution.\n",
    "\n",
    "**a)** Suppose Cynthia makes a trip. Find the chance that more than 6 people are in one carriage of the BART train when she takes it.\n",
    "\n",
    "**b)** Find the expected number of people in one carriage of the BART train when she takes it."
   ]
  },
  {
   "cell_type": "markdown",
   "id": "9c548083",
   "metadata": {
    "#question": false,
    "#solution": false,
    "#staff": false,
    "#student": false
   },
   "source": [
    "\\newpage"
   ]
  },
  {
   "cell_type": "markdown",
   "id": "7391b6b1-4f29-4a0c-8382-e9d7ec38954b",
   "metadata": {
    "#question": true,
    "#solution": false,
    "#staff": false,
    "#student": false
   },
   "source": [
    "## 2. Bay Area Locales ##\n",
    "\n",
    "A new food delivery company in Berkeley delivers a meal along with an entry ticket to an interesting place nearby. The entry ticket in a meal is equally likely to be for one of the following five locations, independently of the entry tickets given with all other meals:\n",
    "\n",
    "- The [Takara Sake Museum](https://www.atlasobscura.com/places/takara-sake-museum) in Berkeley\n",
    "- The [Aftel Archive of Curious Scents](https://www.aftelier.com/Articles.asp?ID=256) in Berkeley\n",
    "- [Cafe Ohlone](https://www.makamham.com/cafeohlone) in Berkeley\n",
    "- The [Albion Castle](https://www.atlasobscura.com/places/albion-castle) in San Francisco\n",
    "- [The Institute of Illegal Images](https://www.atlasobscura.com/places/institute-illegal-images) in San Francisco\n",
    "\n",
    "A group of students taking summer classes decide to order one meal each week and use the included entry ticket. For the following questions, note that \"till\" means \"up to and including\".\n",
    "\n",
    "**a)** Find the expected number of weeks till they have gotten an entry ticket to a place in Berkeley.\n",
    "\n",
    "**b)** Find the expected number of weeks till they have gotten entry tickets to all five places.\n",
    "\n",
    "**c)** Find the expected number of weeks till they have gotten an entry ticket to a place in Berkeley as well as to a place in San Francisco. *Hint: They have to get one of these on the first week. Remember to count that week in your calculation.*"
   ]
  },
  {
   "cell_type": "markdown",
   "id": "95394dcf",
   "metadata": {
    "#question": false,
    "#solution": false,
    "#staff": false,
    "#student": false
   },
   "source": [
    "\\newpage"
   ]
  },
  {
   "cell_type": "markdown",
   "id": "0537c5df",
   "metadata": {
    "#question": true,
    "#solution": false,
    "#staff": false,
    "#student": false
   },
   "source": [
    "## 3. Neat Symmetry ##\n",
    "\n",
    "Let $X$ have the distribution given by\n",
    "\n",
    "|$~~~~~~~~~~~~ x$| $-10$ | $-5$ | $0$ | $5$ | $10$ |\n",
    "|---------------:|:---:|:---:|:---:|:---:|:---:|\n",
    "|$P(X = x)$| $0.2$ | $0.1$ | $0.4$ | $0.1$ | $0.2$ |\n",
    "\n",
    "**a)** Sketch (by hand) the probability histogram of $X$ by centering a bar of width 1 over each possible value of $X$. Find $E(X)$ and mark it on the horizontal axis.\n",
    "\n",
    "**b)** Find $SD(X)$. \n",
    "\n",
    "**c)** Sketch (by hand) the probability histogram of $\\vert X \\vert$ by centering a bar of width 1 over each possible value of $\\vert X \\vert$. Find $E(\\vert X \\vert)$ and mark it on the horizontal axis.\n",
    "\n",
    "**d)** Find $SD(\\vert X \\vert)$. "
   ]
  },
  {
   "cell_type": "markdown",
   "id": "974a212a",
   "metadata": {
    "#question": false,
    "#solution": false,
    "#staff": false,
    "#student": false
   },
   "source": [
    "\\newpage"
   ]
  },
  {
   "cell_type": "markdown",
   "id": "d78b43bf",
   "metadata": {
    "#question": true,
    "#solution": false,
    "#staff": false,
    "#student": false
   },
   "source": [
    "## 4. Great Snipe Migrations ##\n",
    "\n",
    "The [great snipe](https://en.wikipedia.org/wiki/Great_snipe) is a small bird that migrates by making nonstop flights between Sweden and Africa every year. Assume that the average migration length in a population of great snipes is 3000 miles (for context, this is about the distance you'd travel on Interstate 80 if you drove from San Francisco to New York).\n",
    "\n",
    "Let $L$ be the migration length of a great snipe chosen at random from this population.\n",
    "\n",
    "**a)** Say you're wondering if this great snipe would be able to travel from Buenos Aires to Hong Kong, which are about 12,000 miles apart. If it is possible, find $P(L \\ge 12000)$. If it is not possible, explain why, and find the best upper bound possible based on the information provided.\n",
    "\n",
    "**b)** Suppose you now find out from [this journal paper](https://nora.nerc.ac.uk/id/eprint/512131/1/migration%20of%20the%20great%20snipe%20AAM.pdf) that tracked some birds' migrations using geolocators that the standard deviation of the migration distances is 600 miles. If it is possible, find $P(1200 < L < 4800)$. Otherwise, find the best upper and lower bounds possible based on the information provided."
   ]
  },
  {
   "cell_type": "markdown",
   "id": "bd6c66ad",
   "metadata": {
    "#question": false,
    "#solution": false,
    "#staff": false,
    "#student": false
   },
   "source": [
    "\\newpage"
   ]
  },
  {
   "cell_type": "markdown",
   "id": "73f75ec1",
   "metadata": {
    "#question": true,
    "#solution": false,
    "#staff": false,
    "#student": false
   },
   "source": [
    "## 5. Trip to Vallejo ##\n",
    "\n",
    "Suppose the mean time it takes Shahzar to travel from Berkeley to Vallejo, in minutes, is a random variable that has a mean of 40 minutes and a standard deviation of 15 minutes. Let $T$ denote this random variable.\n",
    "\n",
    "**a)** Find the best possible upper bound on $P(T \\ge 90)$.\n",
    "\n",
    "**b)** Find the smallest $t$ possible so that $P(T < t) \\ge 99\\%$."
   ]
  },
  {
   "cell_type": "markdown",
   "id": "a8fc0a36",
   "metadata": {
    "#question": false,
    "#solution": false,
    "#staff": false,
    "#student": false
   },
   "source": [
    "\\newpage"
   ]
  },
  {
   "cell_type": "markdown",
   "id": "a7f64894",
   "metadata": {
    "#question": true,
    "#solution": false,
    "#staff": false,
    "#student": false
   },
   "source": [
    "## 6. Everyone's Favorite Test Strategy ##\n",
    "\n",
    "A new test that has only true or false answers is being designed in the data science department. The department would like to determine how a student would do if they just guessed all the answers at random. (The folks that design tests like the SAT have to consider this as well.)\n",
    "\n",
    "Suppose there are 100 questions on the test. One point is awarded for each correct answer and 1 point is taken away for any other kind of answer (wrong, missing, ambiguous, or anything other than correct).\n",
    "\n",
    "For each question, the student guesses by flipping a fair coin and picking \"true\" if the coins lands heads and picking \"false\" if the coin lands tails.\n",
    "\n",
    "**a)** Let $W$ be the number of questions the student does not get right. Find $E(W)$ and $SD(W)$.\n",
    "\n",
    "**b)** Let $S$ be the student's score on the test. Find $E(S)$ and $SD(S)$."
   ]
  },
  {
   "cell_type": "markdown",
   "id": "5c57b5a6",
   "metadata": {
    "#question": false,
    "#solution": false,
    "#staff": false,
    "#student": false
   },
   "source": [
    "\\newpage"
   ]
  },
  {
   "cell_type": "markdown",
   "id": "699d6c0a",
   "metadata": {
    "#question": true,
    "#solution": false,
    "#staff": false,
    "#student": false
   },
   "source": [
    "## 7. Comparisons ##\n",
    "\n",
    "**a)** Roll a die repeatedly. **Without any calculation** other than obvious conversions between counts and percents, say which (if any) of the following chances is bigger. Explain your answer.\n",
    "\n",
    "- the chance that the percent of sixes in $n$ rolls is greater than 20%\n",
    "- the chance that the percent of sixes in $2n$ rolls is greater than 20%\n",
    "\n",
    "**b)** Suppose a coin is tossed repeatedly. **Without any calculation** other than obvious conversions between counts and percents, say which (if any) of the following chances is bigger. Explain your answer.\n",
    "\n",
    "- the chance of getting between 40 and 60 heads (that is, 40 through 60) in 100 tosses\n",
    "- the chance of getting between 400 and 600 heads in 1000 tosses\n",
    "\n",
    "**c)** Find the two chances in Part **b**, and then find their numerical values (you can use the code cell below). Check that they are consistent with your answer to **b**.\n",
    "\n",
    "**d)** The Philippines (population about 110 million) has about half as many people as Pakistan (population about 220 million). **Without calculation,** pick the correct option and explain your choice.\n",
    "\n",
    "If the underlying population SDs are equal, a simple random sample of 1000 people in the Philippines is\n",
    "\n",
    "- about half as accurate \n",
    "- about $1/\\sqrt{2}$ times as accurate\n",
    "- about as accurate\n",
    "- about $\\sqrt{2}$ times as accurate\n",
    "- about twice as accurate\n",
    "\n",
    "as a simple random sample of 1000 people in Pakistan."
   ]
  },
  {
   "cell_type": "code",
   "execution_count": null,
   "id": "56910375",
   "metadata": {
    "#question": false,
    "#solution": false,
    "#staff": false,
    "#student": true
   },
   "outputs": [],
   "source": [
    "# Calculations for b\n"
   ]
  },
  {
   "cell_type": "markdown",
   "id": "49fadbb4-9d01-41b0-ac93-d1563ebfd629",
   "metadata": {
    "#question": false,
    "#solution": false,
    "#staff": false,
    "#student": false
   },
   "source": [
    "\\newpage"
   ]
  },
  {
   "cell_type": "markdown",
   "id": "02c259eb",
   "metadata": {
    "#question": true,
    "#solution": false,
    "#staff": false,
    "#student": false
   },
   "source": [
    "## 8. Sample Sums and Averages ##\n",
    "\n",
    "$X_1, \\dots, X_n$ are all i.i.d., each with expectation $\\mu$ and variance $\\sigma^2$. Let $S = \\sum_{i=1}^n X_i$ and $\\bar{X} = \\frac{1}{n} S = \\frac{1}{n}\\sum_{i=1}^n X_i$. For each of the parts below, you need to show each step of the calculation to get credit.\n",
    "\n",
    "**a)** Find $E(S)$.\n",
    "\n",
    "**b)** Find $Var(S)$.\n",
    "\n",
    "**c)** Find $E(\\bar{X})$.\n",
    "\n",
    "**d)** Find $Var(\\bar{X})$."
   ]
  },
  {
   "cell_type": "markdown",
   "id": "86939398-b33b-49d3-b46c-0cc211f3ac58",
   "metadata": {
    "#question": false,
    "#solution": false,
    "#staff": false,
    "#student": true,
    "tags": []
   },
   "source": [
    "## Submission Instructions ##\n",
    "\n",
    "Please follow the directions below to properly submit both portions.\n",
    "\n",
    "### Written Work ###\n",
    "*  Scan all the pages into a PDF. You can use any scanner or a phone using applications such as CamScanner. Please **DO NOT** simply take pictures using your phone. \n",
    "* **Please start a new page for each question.** If you have already written multiple questions on the same page, you can crop the image in CamScanner or fold your page over (the old-fashioned way). This helps expedite grading.\n",
    "* It is your responsibility to check that all the work on all the scanned pages is legible.\n",
    "    \n",
    "### Submitting ###\n",
    "* Submit the assignment to Homework 4 on Gradescope. \n",
    "* **Make sure to assign each page of your pdf to the correct question.**\n",
    "* **It is your responsibility to verify that all of your work shows up in your final PDF submission.**\n",
    "\n",
    "If you have questions about scanning or uploading your work, please post a follow-up to the Ed thread on [Gradescope Assignment Submission](https://edstem.org/us/courses/40833/discussion/3214385).\n",
    "\n",
    "## **We will not grade assignments which do not have pages selected for each question.** ##"
   ]
  }
 ],
 "metadata": {
  "checksums": [
   "6a022d097f4bf8a378f8b543e3f2aacc",
   "d81c015fe17ef0f91b778d7089110778",
   "a78323380327a99a1a34597d29495bcf",
   "8035ddd1b8292a88be79e80b78b6378d",
   "5fb06c9059ca654a14e45d72e4e82c64",
   "562505d567faf02dfc9388e81e89d07b",
   "155fd1b4183d6e7cbde1421315dc26b5",
   "562505d567faf02dfc9388e81e89d07b",
   "e927275295ad9b66a0b7041b3482dddd",
   "562505d567faf02dfc9388e81e89d07b",
   "3ee3c72d8f17f8abed1fcb6fc7075966",
   "562505d567faf02dfc9388e81e89d07b",
   "014063cf4cfce7698b69d2946d94f1b5",
   "562505d567faf02dfc9388e81e89d07b",
   "d1e4d0121780df9df5b812d4aa2db3d5",
   "562505d567faf02dfc9388e81e89d07b",
   "b9f558b459cee05e8eec44266cc763b8",
   "780aa6e871823bc7ab1b99e05c99ca6d",
   "562505d567faf02dfc9388e81e89d07b",
   "a49318bc42f2899a13e0c627dfb9729b",
   "984984dfac6ec5d22f5c5fea24c61a06"
  ],
  "kernelspec": {
   "display_name": "Python 3",
   "language": "python",
   "name": "python3"
  },
  "language_info": {
   "codemirror_mode": {
    "name": "ipython",
    "version": 3
   },
   "file_extension": ".py",
   "mimetype": "text/x-python",
   "name": "python",
   "nbconvert_exporter": "python",
   "pygments_lexer": "ipython3",
   "version": "3.7.11"
  },
  "number_of_pagebreaks": 0
 },
 "nbformat": 4,
 "nbformat_minor": 5
}
